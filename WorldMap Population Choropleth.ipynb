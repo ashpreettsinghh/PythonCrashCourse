{
 "cells": [
  {
   "cell_type": "code",
   "execution_count": 3,
   "metadata": {},
   "outputs": [
    {
     "data": {
      "text/html": [
       "        <script type=\"text/javascript\">\n",
       "        window.PlotlyConfig = {MathJaxConfig: 'local'};\n",
       "        if (window.MathJax && window.MathJax.Hub && window.MathJax.Hub.Config) {window.MathJax.Hub.Config({SVG: {font: \"STIX-Web\"}});}\n",
       "        if (typeof require !== 'undefined') {\n",
       "        require.undef(\"plotly\");\n",
       "        requirejs.config({\n",
       "            paths: {\n",
       "                'plotly': ['https://cdn.plot.ly/plotly-2.14.0.min']\n",
       "            }\n",
       "        });\n",
       "        require(['plotly'], function(Plotly) {\n",
       "            window._Plotly = Plotly;\n",
       "        });\n",
       "        }\n",
       "        </script>\n",
       "        "
      ]
     },
     "metadata": {},
     "output_type": "display_data"
    }
   ],
   "source": [
    "import pandas as pd\n",
    "import numpy as np\n",
    "import plotly.graph_objs as go \n",
    "from plotly.offline import init_notebook_mode,iplot\n",
    "init_notebook_mode(connected=True) \n",
    "#Dataset source link -> https://www.kaggle.com/datasets/tanuprabhu/population-by-country-2020"
   ]
  },
  {
   "cell_type": "code",
   "execution_count": 4,
   "metadata": {},
   "outputs": [],
   "source": [
    "path = '/Users/ashpreetsingh/Downloads/population_by_country_2020.csv'"
   ]
  },
  {
   "cell_type": "code",
   "execution_count": 5,
   "metadata": {},
   "outputs": [],
   "source": [
    "df = pd.read_csv(path)"
   ]
  },
  {
   "cell_type": "code",
   "execution_count": 6,
   "metadata": {},
   "outputs": [
    {
     "data": {
      "text/html": [
       "<div>\n",
       "<style scoped>\n",
       "    .dataframe tbody tr th:only-of-type {\n",
       "        vertical-align: middle;\n",
       "    }\n",
       "\n",
       "    .dataframe tbody tr th {\n",
       "        vertical-align: top;\n",
       "    }\n",
       "\n",
       "    .dataframe thead th {\n",
       "        text-align: right;\n",
       "    }\n",
       "</style>\n",
       "<table border=\"1\" class=\"dataframe\">\n",
       "  <thead>\n",
       "    <tr style=\"text-align: right;\">\n",
       "      <th></th>\n",
       "      <th>Country (or dependency)</th>\n",
       "      <th>Population (2020)</th>\n",
       "      <th>Yearly Change</th>\n",
       "      <th>Net Change</th>\n",
       "      <th>Density (P/Km²)</th>\n",
       "      <th>Land Area (Km²)</th>\n",
       "      <th>Migrants (net)</th>\n",
       "      <th>Fert. Rate</th>\n",
       "      <th>Med. Age</th>\n",
       "      <th>Urban Pop %</th>\n",
       "      <th>World Share</th>\n",
       "    </tr>\n",
       "  </thead>\n",
       "  <tbody>\n",
       "    <tr>\n",
       "      <th>0</th>\n",
       "      <td>China</td>\n",
       "      <td>1440297825</td>\n",
       "      <td>0.39 %</td>\n",
       "      <td>5540090</td>\n",
       "      <td>153</td>\n",
       "      <td>9388211</td>\n",
       "      <td>-348399.0</td>\n",
       "      <td>1.7</td>\n",
       "      <td>38</td>\n",
       "      <td>61 %</td>\n",
       "      <td>18.47 %</td>\n",
       "    </tr>\n",
       "    <tr>\n",
       "      <th>1</th>\n",
       "      <td>India</td>\n",
       "      <td>1382345085</td>\n",
       "      <td>0.99 %</td>\n",
       "      <td>13586631</td>\n",
       "      <td>464</td>\n",
       "      <td>2973190</td>\n",
       "      <td>-532687.0</td>\n",
       "      <td>2.2</td>\n",
       "      <td>28</td>\n",
       "      <td>35 %</td>\n",
       "      <td>17.70 %</td>\n",
       "    </tr>\n",
       "    <tr>\n",
       "      <th>2</th>\n",
       "      <td>United States</td>\n",
       "      <td>331341050</td>\n",
       "      <td>0.59 %</td>\n",
       "      <td>1937734</td>\n",
       "      <td>36</td>\n",
       "      <td>9147420</td>\n",
       "      <td>954806.0</td>\n",
       "      <td>1.8</td>\n",
       "      <td>38</td>\n",
       "      <td>83 %</td>\n",
       "      <td>4.25 %</td>\n",
       "    </tr>\n",
       "    <tr>\n",
       "      <th>3</th>\n",
       "      <td>Indonesia</td>\n",
       "      <td>274021604</td>\n",
       "      <td>1.07 %</td>\n",
       "      <td>2898047</td>\n",
       "      <td>151</td>\n",
       "      <td>1811570</td>\n",
       "      <td>-98955.0</td>\n",
       "      <td>2.3</td>\n",
       "      <td>30</td>\n",
       "      <td>56 %</td>\n",
       "      <td>3.51 %</td>\n",
       "    </tr>\n",
       "    <tr>\n",
       "      <th>4</th>\n",
       "      <td>Pakistan</td>\n",
       "      <td>221612785</td>\n",
       "      <td>2.00 %</td>\n",
       "      <td>4327022</td>\n",
       "      <td>287</td>\n",
       "      <td>770880</td>\n",
       "      <td>-233379.0</td>\n",
       "      <td>3.6</td>\n",
       "      <td>23</td>\n",
       "      <td>35 %</td>\n",
       "      <td>2.83 %</td>\n",
       "    </tr>\n",
       "    <tr>\n",
       "      <th>...</th>\n",
       "      <td>...</td>\n",
       "      <td>...</td>\n",
       "      <td>...</td>\n",
       "      <td>...</td>\n",
       "      <td>...</td>\n",
       "      <td>...</td>\n",
       "      <td>...</td>\n",
       "      <td>...</td>\n",
       "      <td>...</td>\n",
       "      <td>...</td>\n",
       "      <td>...</td>\n",
       "    </tr>\n",
       "    <tr>\n",
       "      <th>230</th>\n",
       "      <td>Montserrat</td>\n",
       "      <td>4993</td>\n",
       "      <td>0.06 %</td>\n",
       "      <td>3</td>\n",
       "      <td>50</td>\n",
       "      <td>100</td>\n",
       "      <td>NaN</td>\n",
       "      <td>N.A.</td>\n",
       "      <td>N.A.</td>\n",
       "      <td>10 %</td>\n",
       "      <td>0.00 %</td>\n",
       "    </tr>\n",
       "    <tr>\n",
       "      <th>231</th>\n",
       "      <td>Falkland Islands</td>\n",
       "      <td>3497</td>\n",
       "      <td>3.05 %</td>\n",
       "      <td>103</td>\n",
       "      <td>0</td>\n",
       "      <td>12170</td>\n",
       "      <td>NaN</td>\n",
       "      <td>N.A.</td>\n",
       "      <td>N.A.</td>\n",
       "      <td>66 %</td>\n",
       "      <td>0.00 %</td>\n",
       "    </tr>\n",
       "    <tr>\n",
       "      <th>232</th>\n",
       "      <td>Niue</td>\n",
       "      <td>1628</td>\n",
       "      <td>0.68 %</td>\n",
       "      <td>11</td>\n",
       "      <td>6</td>\n",
       "      <td>260</td>\n",
       "      <td>NaN</td>\n",
       "      <td>N.A.</td>\n",
       "      <td>N.A.</td>\n",
       "      <td>46 %</td>\n",
       "      <td>0.00 %</td>\n",
       "    </tr>\n",
       "    <tr>\n",
       "      <th>233</th>\n",
       "      <td>Tokelau</td>\n",
       "      <td>1360</td>\n",
       "      <td>1.27 %</td>\n",
       "      <td>17</td>\n",
       "      <td>136</td>\n",
       "      <td>10</td>\n",
       "      <td>NaN</td>\n",
       "      <td>N.A.</td>\n",
       "      <td>N.A.</td>\n",
       "      <td>0 %</td>\n",
       "      <td>0.00 %</td>\n",
       "    </tr>\n",
       "    <tr>\n",
       "      <th>234</th>\n",
       "      <td>Holy See</td>\n",
       "      <td>801</td>\n",
       "      <td>0.25 %</td>\n",
       "      <td>2</td>\n",
       "      <td>2003</td>\n",
       "      <td>0</td>\n",
       "      <td>NaN</td>\n",
       "      <td>N.A.</td>\n",
       "      <td>N.A.</td>\n",
       "      <td>N.A.</td>\n",
       "      <td>0.00 %</td>\n",
       "    </tr>\n",
       "  </tbody>\n",
       "</table>\n",
       "<p>235 rows × 11 columns</p>\n",
       "</div>"
      ],
      "text/plain": [
       "    Country (or dependency)  Population (2020) Yearly Change  Net Change  \\\n",
       "0                     China         1440297825        0.39 %     5540090   \n",
       "1                     India         1382345085        0.99 %    13586631   \n",
       "2             United States          331341050        0.59 %     1937734   \n",
       "3                 Indonesia          274021604        1.07 %     2898047   \n",
       "4                  Pakistan          221612785        2.00 %     4327022   \n",
       "..                      ...                ...           ...         ...   \n",
       "230              Montserrat               4993        0.06 %           3   \n",
       "231        Falkland Islands               3497        3.05 %         103   \n",
       "232                    Niue               1628        0.68 %          11   \n",
       "233                 Tokelau               1360        1.27 %          17   \n",
       "234                Holy See                801        0.25 %           2   \n",
       "\n",
       "     Density (P/Km²)  Land Area (Km²)  Migrants (net) Fert. Rate Med. Age  \\\n",
       "0                153          9388211       -348399.0        1.7       38   \n",
       "1                464          2973190       -532687.0        2.2       28   \n",
       "2                 36          9147420        954806.0        1.8       38   \n",
       "3                151          1811570        -98955.0        2.3       30   \n",
       "4                287           770880       -233379.0        3.6       23   \n",
       "..               ...              ...             ...        ...      ...   \n",
       "230               50              100             NaN       N.A.     N.A.   \n",
       "231                0            12170             NaN       N.A.     N.A.   \n",
       "232                6              260             NaN       N.A.     N.A.   \n",
       "233              136               10             NaN       N.A.     N.A.   \n",
       "234             2003                0             NaN       N.A.     N.A.   \n",
       "\n",
       "    Urban Pop % World Share  \n",
       "0          61 %     18.47 %  \n",
       "1          35 %     17.70 %  \n",
       "2          83 %      4.25 %  \n",
       "3          56 %      3.51 %  \n",
       "4          35 %      2.83 %  \n",
       "..          ...         ...  \n",
       "230        10 %      0.00 %  \n",
       "231        66 %      0.00 %  \n",
       "232        46 %      0.00 %  \n",
       "233         0 %      0.00 %  \n",
       "234        N.A.      0.00 %  \n",
       "\n",
       "[235 rows x 11 columns]"
      ]
     },
     "execution_count": 6,
     "metadata": {},
     "output_type": "execute_result"
    }
   ],
   "source": [
    "df"
   ]
  },
  {
   "cell_type": "code",
   "execution_count": 23,
   "metadata": {},
   "outputs": [],
   "source": [
    "data = dict(type='choropleth',\n",
    "           locations=df['Country (or dependency)'],\n",
    "           locationmode=\"country names\",\n",
    "           colorscale='magenta',\n",
    "           text=df['World Share'],\n",
    "           z=df['Population (2020)'],\n",
    "           colorbar={'title':'World map population distribution '})"
   ]
  },
  {
   "cell_type": "code",
   "execution_count": 24,
   "metadata": {},
   "outputs": [],
   "source": [
    "layout = dict(geo={'scope':'world'})"
   ]
  },
  {
   "cell_type": "code",
   "execution_count": 25,
   "metadata": {},
   "outputs": [],
   "source": [
    "choromap = go.Figure(data = [data],layout = layout)"
   ]
  },
  {
   "cell_type": "code",
   "execution_count": 26,
   "metadata": {},
   "outputs": [
    {
     "data": {
      "application/vnd.plotly.v1+json": {
       "config": {
        "linkText": "Export to plot.ly",
        "plotlyServerURL": "https://plot.ly",
        "showLink": false
       },
       "data": [
        {
         "colorbar": {
          "title": {
           "text": "World map population distribution "
          }
         },
         "colorscale": [
          [
           0,
           "rgb(243, 203, 211)"
          ],
          [
           0.16666666666666666,
           "rgb(234, 169, 189)"
          ],
          [
           0.3333333333333333,
           "rgb(221, 136, 172)"
          ],
          [
           0.5,
           "rgb(202, 105, 157)"
          ],
          [
           0.6666666666666666,
           "rgb(177, 77, 142)"
          ],
          [
           0.8333333333333334,
           "rgb(145, 53, 125)"
          ],
          [
           1,
           "rgb(108, 33, 103)"
          ]
         ],
         "locationmode": "country names",
         "locations": [
          "China",
          "India",
          "United States",
          "Indonesia",
          "Pakistan",
          "Brazil",
          "Nigeria",
          "Bangladesh",
          "Russia",
          "Mexico",
          "Japan",
          "Ethiopia",
          "Philippines",
          "Egypt",
          "Vietnam",
          "DR Congo",
          "Turkey",
          "Iran",
          "Germany",
          "Thailand",
          "United Kingdom",
          "France",
          "Italy",
          "Tanzania",
          "South Africa",
          "Myanmar",
          "Kenya",
          "South Korea",
          "Colombia",
          "Spain",
          "Uganda",
          "Argentina",
          "Algeria",
          "Sudan",
          "Ukraine",
          "Iraq",
          "Afghanistan",
          "Poland",
          "Canada",
          "Morocco",
          "Saudi Arabia",
          "Uzbekistan",
          "Peru",
          "Angola",
          "Malaysia",
          "Mozambique",
          "Ghana",
          "Yemen",
          "Nepal",
          "Venezuela",
          "Madagascar",
          "Cameroon",
          "Côte d'Ivoire",
          "North Korea",
          "Australia",
          "Niger",
          "Taiwan",
          "Sri Lanka",
          "Burkina Faso",
          "Mali",
          "Romania",
          "Malawi",
          "Chile",
          "Kazakhstan",
          "Zambia",
          "Guatemala",
          "Ecuador",
          "Syria",
          "Netherlands",
          "Senegal",
          "Cambodia",
          "Chad",
          "Somalia",
          "Zimbabwe",
          "Guinea",
          "Rwanda",
          "Benin",
          "Burundi",
          "Tunisia",
          "Bolivia",
          "Belgium",
          "Haiti",
          "Cuba",
          "South Sudan",
          "Dominican Republic",
          "Czech Republic (Czechia)",
          "Greece",
          "Jordan",
          "Portugal",
          "Azerbaijan",
          "Sweden",
          "Honduras",
          "United Arab Emirates",
          "Hungary",
          "Tajikistan",
          "Belarus",
          "Austria",
          "Papua New Guinea",
          "Serbia",
          "Israel",
          "Switzerland",
          "Togo",
          "Sierra Leone",
          "Hong Kong",
          "Laos",
          "Paraguay",
          "Bulgaria",
          "Libya",
          "Lebanon",
          "Nicaragua",
          "Kyrgyzstan",
          "El Salvador",
          "Turkmenistan",
          "Singapore",
          "Denmark",
          "Finland",
          "Congo",
          "Slovakia",
          "Norway",
          "Oman",
          "State of Palestine",
          "Costa Rica",
          "Liberia",
          "Ireland",
          "Central African Republic",
          "New Zealand",
          "Mauritania",
          "Panama",
          "Kuwait",
          "Croatia",
          "Moldova",
          "Georgia",
          "Eritrea",
          "Uruguay",
          "Bosnia and Herzegovina",
          "Mongolia",
          "Armenia",
          "Jamaica",
          "Qatar",
          "Albania",
          "Puerto Rico",
          "Lithuania",
          "Namibia",
          "Gambia",
          "Botswana",
          "Gabon",
          "Lesotho",
          "North Macedonia",
          "Slovenia",
          "Guinea-Bissau",
          "Latvia",
          "Bahrain",
          "Equatorial Guinea",
          "Trinidad and Tobago",
          "Estonia",
          "Timor-Leste",
          "Mauritius",
          "Cyprus",
          "Eswatini",
          "Djibouti",
          "Fiji",
          "Réunion",
          "Comoros",
          "Guyana",
          "Bhutan",
          "Solomon Islands",
          "Macao",
          "Montenegro",
          "Luxembourg",
          "Western Sahara",
          "Suriname",
          "Cabo Verde",
          "Maldives",
          "Malta",
          "Brunei",
          "Guadeloupe",
          "Belize",
          "Bahamas",
          "Martinique",
          "Iceland",
          "Vanuatu",
          "French Guiana",
          "Barbados",
          "New Caledonia",
          "French Polynesia",
          "Mayotte",
          "Sao Tome & Principe",
          "Samoa",
          "Saint Lucia",
          "Channel Islands",
          "Guam",
          "Curaçao",
          "Kiribati",
          "Micronesia",
          "Grenada",
          "St. Vincent & Grenadines",
          "Aruba",
          "Tonga",
          "U.S. Virgin Islands",
          "Seychelles",
          "Antigua and Barbuda",
          "Isle of Man",
          "Andorra",
          "Dominica",
          "Cayman Islands",
          "Bermuda",
          "Marshall Islands",
          "Northern Mariana Islands",
          "Greenland",
          "American Samoa",
          "Saint Kitts & Nevis",
          "Faeroe Islands",
          "Sint Maarten",
          "Monaco",
          "Turks and Caicos",
          "Saint Martin",
          "Liechtenstein",
          "San Marino",
          "Gibraltar",
          "British Virgin Islands",
          "Caribbean Netherlands",
          "Palau",
          "Cook Islands",
          "Anguilla",
          "Tuvalu",
          "Wallis & Futuna",
          "Nauru",
          "Saint Barthelemy",
          "Saint Helena",
          "Saint Pierre & Miquelon",
          "Montserrat",
          "Falkland Islands",
          "Niue",
          "Tokelau",
          "Holy See"
         ],
         "text": [
          "18.47 %",
          "17.70 %",
          "4.25 %",
          "3.51 %",
          "2.83 %",
          "2.73 %",
          "2.64 %",
          "2.11 %",
          "1.87 %",
          "1.65 %",
          "1.62 %",
          "1.47 %",
          "1.41 %",
          "1.31 %",
          "1.25 %",
          "1.15 %",
          "1.08 %",
          "1.08 %",
          "1.07 %",
          "0.90 %",
          "0.87 %",
          "0.84 %",
          "0.78 %",
          "0.77 %",
          "0.76 %",
          "0.70 %",
          "0.69 %",
          "0.66 %",
          "0.65 %",
          "0.60 %",
          "0.59 %",
          "0.58 %",
          "0.56 %",
          "0.56 %",
          "0.56 %",
          "0.52 %",
          "0.50 %",
          "0.49 %",
          "0.48 %",
          "0.47 %",
          "0.45 %",
          "0.43 %",
          "0.42 %",
          "0.42 %",
          "0.42 %",
          "0.40 %",
          "0.40 %",
          "0.38 %",
          "0.37 %",
          "0.36 %",
          "0.36 %",
          "0.34 %",
          "0.34 %",
          "0.33 %",
          "0.33 %",
          "0.31 %",
          "0.31 %",
          "0.27 %",
          "0.27 %",
          "0.26 %",
          "0.25 %",
          "0.25 %",
          "0.25 %",
          "0.24 %",
          "0.24 %",
          "0.23 %",
          "0.23 %",
          "0.22 %",
          "0.22 %",
          "0.21 %",
          "0.21 %",
          "0.21 %",
          "0.20 %",
          "0.19 %",
          "0.17 %",
          "0.17 %",
          "0.16 %",
          "0.15 %",
          "0.15 %",
          "0.15 %",
          "0.15 %",
          "0.15 %",
          "0.15 %",
          "0.14 %",
          "0.14 %",
          "0.14 %",
          "0.13 %",
          "0.13 %",
          "0.13 %",
          "0.13 %",
          "0.13 %",
          "0.13 %",
          "0.13 %",
          "0.12 %",
          "0.12 %",
          "0.12 %",
          "0.12 %",
          "0.11 %",
          "0.11 %",
          "0.11 %",
          "0.11 %",
          "0.11 %",
          "0.10 %",
          "0.10 %",
          "0.09 %",
          "0.09 %",
          "0.09 %",
          "0.09 %",
          "0.09 %",
          "0.08 %",
          "0.08 %",
          "0.08 %",
          "0.08 %",
          "0.08 %",
          "0.07 %",
          "0.07 %",
          "0.07 %",
          "0.07 %",
          "0.07 %",
          "0.07 %",
          "0.07 %",
          "0.07 %",
          "0.06 %",
          "0.06 %",
          "0.06 %",
          "0.06 %",
          "0.06 %",
          "0.06 %",
          "0.05 %",
          "0.05 %",
          "0.05 %",
          "0.05 %",
          "0.05 %",
          "0.04 %",
          "0.04 %",
          "0.04 %",
          "0.04 %",
          "0.04 %",
          "0.04 %",
          "0.04 %",
          "0.04 %",
          "0.03 %",
          "0.03 %",
          "0.03 %",
          "0.03 %",
          "0.03 %",
          "0.03 %",
          "0.03 %",
          "0.03 %",
          "0.03 %",
          "0.02 %",
          "0.02 %",
          "0.02 %",
          "0.02 %",
          "0.02 %",
          "0.02 %",
          "0.02 %",
          "0.02 %",
          "0.01 %",
          "0.01 %",
          "0.01 %",
          "0.01 %",
          "0.01 %",
          "0.01 %",
          "0.01 %",
          "0.01 %",
          "0.01 %",
          "0.01 %",
          "0.01 %",
          "0.01 %",
          "0.01 %",
          "0.01 %",
          "0.01 %",
          "0.01 %",
          "0.01 %",
          "0.01 %",
          "0.01 %",
          "0.01 %",
          "0.00 %",
          "0.00 %",
          "0.00 %",
          "0.00 %",
          "0.00 %",
          "0.00 %",
          "0.00 %",
          "0.00 %",
          "0.00 %",
          "0.00 %",
          "0.00 %",
          "0.00 %",
          "0.00 %",
          "0.00 %",
          "0.00 %",
          "0.00 %",
          "0.00 %",
          "0.00 %",
          "0.00 %",
          "0.00 %",
          "0.00 %",
          "0.00 %",
          "0.00 %",
          "0.00 %",
          "0.00 %",
          "0.00 %",
          "0.00 %",
          "0.00 %",
          "0.00 %",
          "0.00 %",
          "0.00 %",
          "0.00 %",
          "0.00 %",
          "0.00 %",
          "0.00 %",
          "0.00 %",
          "0.00 %",
          "0.00 %",
          "0.00 %",
          "0.00 %",
          "0.00 %",
          "0.00 %",
          "0.00 %",
          "0.00 %",
          "0.00 %",
          "0.00 %",
          "0.00 %",
          "0.00 %",
          "0.00 %",
          "0.00 %",
          "0.00 %",
          "0.00 %",
          "0.00 %",
          "0.00 %",
          "0.00 %",
          "0.00 %",
          "0.00 %"
         ],
         "type": "choropleth",
         "z": [
          1440297825,
          1382345085,
          331341050,
          274021604,
          221612785,
          212821986,
          206984347,
          164972348,
          145945524,
          129166028,
          126407422,
          115434444,
          109830324,
          102659126,
          97490013,
          90003954,
          84495243,
          84176929,
          83830972,
          69830779,
          67948282,
          65298930,
          60446035,
          60012400,
          59436725,
          54473253,
          53968739,
          51276977,
          50976248,
          46757980,
          45974931,
          45267449,
          43984569,
          44019263,
          43686577,
          40372771,
          39074280,
          37839255,
          37799407,
          36985624,
          34905942,
          33551824,
          33050211,
          33032075,
          32436963,
          31398811,
          31181428,
          29935468,
          29225196,
          28421581,
          27808395,
          26655083,
          26486282,
          25798588,
          25550683,
          24346468,
          23824369,
          21428970,
          20997293,
          20346106,
          19214608,
          19211425,
          19144605,
          18815231,
          18468257,
          17971382,
          17688599,
          17571053,
          17141544,
          16816539,
          16758448,
          16502877,
          15965848,
          14899771,
          13191279,
          13005303,
          12175480,
          11948454,
          11839918,
          11700207,
          11598451,
          11426356,
          11325391,
          11216250,
          10866667,
          10712481,
          10413936,
          10220604,
          10191409,
          10154978,
          10110233,
          9931333,
          9910892,
          9655983,
          9573310,
          9448772,
          9015361,
          8975531,
          8731081,
          8678517,
          8665615,
          8310934,
          8004158,
          7507523,
          7293542,
          7147553,
          6939018,
          6887247,
          6819976,
          6638075,
          6542426,
          6491923,
          6046292,
          5858322,
          5795780,
          5542237,
          5540555,
          5460109,
          5428594,
          5128058,
          5121112,
          5102158,
          5077411,
          4947267,
          4843954,
          4829021,
          4669775,
          4326296,
          4281320,
          4100719,
          4032294,
          3987805,
          3554797,
          3475842,
          3277152,
          3287242,
          2964219,
          2963429,
          2889284,
          2877239,
          2846860,
          2715340,
          2548663,
          2427782,
          2359585,
          2234448,
          2145194,
          2083359,
          2078989,
          1975718,
          1882408,
          1711057,
          1410419,
          1400283,
          1326693,
          1322667,
          1272140,
          1208886,
          1162233,
          990447,
          897573,
          896422,
          872695,
          787215,
          773069,
          689671,
          650846,
          628080,
          627704,
          599769,
          587541,
          557026,
          542151,
          441750,
          438202,
          400136,
          398845,
          393893,
          375213,
          341628,
          308337,
          299958,
          287437,
          285972,
          281191,
          273905,
          219844,
          198643,
          183774,
          174140,
          169031,
          164211,
          119760,
          115231,
          112614,
          111002,
          106845,
          105901,
          104398,
          98453,
          98069,
          85112,
          77287,
          72017,
          65854,
          62237,
          59259,
          57619,
          56787,
          55169,
          53264,
          48896,
          42960,
          39290,
          38806,
          38778,
          38147,
          33944,
          33689,
          30266,
          26265,
          18109,
          17567,
          15026,
          11817,
          11203,
          10836,
          9882,
          6080,
          5789,
          4993,
          3497,
          1628,
          1360,
          801
         ]
        }
       ],
       "layout": {
        "geo": {
         "scope": "world"
        },
        "template": {
         "data": {
          "bar": [
           {
            "error_x": {
             "color": "#2a3f5f"
            },
            "error_y": {
             "color": "#2a3f5f"
            },
            "marker": {
             "line": {
              "color": "#E5ECF6",
              "width": 0.5
             },
             "pattern": {
              "fillmode": "overlay",
              "size": 10,
              "solidity": 0.2
             }
            },
            "type": "bar"
           }
          ],
          "barpolar": [
           {
            "marker": {
             "line": {
              "color": "#E5ECF6",
              "width": 0.5
             },
             "pattern": {
              "fillmode": "overlay",
              "size": 10,
              "solidity": 0.2
             }
            },
            "type": "barpolar"
           }
          ],
          "carpet": [
           {
            "aaxis": {
             "endlinecolor": "#2a3f5f",
             "gridcolor": "white",
             "linecolor": "white",
             "minorgridcolor": "white",
             "startlinecolor": "#2a3f5f"
            },
            "baxis": {
             "endlinecolor": "#2a3f5f",
             "gridcolor": "white",
             "linecolor": "white",
             "minorgridcolor": "white",
             "startlinecolor": "#2a3f5f"
            },
            "type": "carpet"
           }
          ],
          "choropleth": [
           {
            "colorbar": {
             "outlinewidth": 0,
             "ticks": ""
            },
            "type": "choropleth"
           }
          ],
          "contour": [
           {
            "colorbar": {
             "outlinewidth": 0,
             "ticks": ""
            },
            "colorscale": [
             [
              0,
              "#0d0887"
             ],
             [
              0.1111111111111111,
              "#46039f"
             ],
             [
              0.2222222222222222,
              "#7201a8"
             ],
             [
              0.3333333333333333,
              "#9c179e"
             ],
             [
              0.4444444444444444,
              "#bd3786"
             ],
             [
              0.5555555555555556,
              "#d8576b"
             ],
             [
              0.6666666666666666,
              "#ed7953"
             ],
             [
              0.7777777777777778,
              "#fb9f3a"
             ],
             [
              0.8888888888888888,
              "#fdca26"
             ],
             [
              1,
              "#f0f921"
             ]
            ],
            "type": "contour"
           }
          ],
          "contourcarpet": [
           {
            "colorbar": {
             "outlinewidth": 0,
             "ticks": ""
            },
            "type": "contourcarpet"
           }
          ],
          "heatmap": [
           {
            "colorbar": {
             "outlinewidth": 0,
             "ticks": ""
            },
            "colorscale": [
             [
              0,
              "#0d0887"
             ],
             [
              0.1111111111111111,
              "#46039f"
             ],
             [
              0.2222222222222222,
              "#7201a8"
             ],
             [
              0.3333333333333333,
              "#9c179e"
             ],
             [
              0.4444444444444444,
              "#bd3786"
             ],
             [
              0.5555555555555556,
              "#d8576b"
             ],
             [
              0.6666666666666666,
              "#ed7953"
             ],
             [
              0.7777777777777778,
              "#fb9f3a"
             ],
             [
              0.8888888888888888,
              "#fdca26"
             ],
             [
              1,
              "#f0f921"
             ]
            ],
            "type": "heatmap"
           }
          ],
          "heatmapgl": [
           {
            "colorbar": {
             "outlinewidth": 0,
             "ticks": ""
            },
            "colorscale": [
             [
              0,
              "#0d0887"
             ],
             [
              0.1111111111111111,
              "#46039f"
             ],
             [
              0.2222222222222222,
              "#7201a8"
             ],
             [
              0.3333333333333333,
              "#9c179e"
             ],
             [
              0.4444444444444444,
              "#bd3786"
             ],
             [
              0.5555555555555556,
              "#d8576b"
             ],
             [
              0.6666666666666666,
              "#ed7953"
             ],
             [
              0.7777777777777778,
              "#fb9f3a"
             ],
             [
              0.8888888888888888,
              "#fdca26"
             ],
             [
              1,
              "#f0f921"
             ]
            ],
            "type": "heatmapgl"
           }
          ],
          "histogram": [
           {
            "marker": {
             "pattern": {
              "fillmode": "overlay",
              "size": 10,
              "solidity": 0.2
             }
            },
            "type": "histogram"
           }
          ],
          "histogram2d": [
           {
            "colorbar": {
             "outlinewidth": 0,
             "ticks": ""
            },
            "colorscale": [
             [
              0,
              "#0d0887"
             ],
             [
              0.1111111111111111,
              "#46039f"
             ],
             [
              0.2222222222222222,
              "#7201a8"
             ],
             [
              0.3333333333333333,
              "#9c179e"
             ],
             [
              0.4444444444444444,
              "#bd3786"
             ],
             [
              0.5555555555555556,
              "#d8576b"
             ],
             [
              0.6666666666666666,
              "#ed7953"
             ],
             [
              0.7777777777777778,
              "#fb9f3a"
             ],
             [
              0.8888888888888888,
              "#fdca26"
             ],
             [
              1,
              "#f0f921"
             ]
            ],
            "type": "histogram2d"
           }
          ],
          "histogram2dcontour": [
           {
            "colorbar": {
             "outlinewidth": 0,
             "ticks": ""
            },
            "colorscale": [
             [
              0,
              "#0d0887"
             ],
             [
              0.1111111111111111,
              "#46039f"
             ],
             [
              0.2222222222222222,
              "#7201a8"
             ],
             [
              0.3333333333333333,
              "#9c179e"
             ],
             [
              0.4444444444444444,
              "#bd3786"
             ],
             [
              0.5555555555555556,
              "#d8576b"
             ],
             [
              0.6666666666666666,
              "#ed7953"
             ],
             [
              0.7777777777777778,
              "#fb9f3a"
             ],
             [
              0.8888888888888888,
              "#fdca26"
             ],
             [
              1,
              "#f0f921"
             ]
            ],
            "type": "histogram2dcontour"
           }
          ],
          "mesh3d": [
           {
            "colorbar": {
             "outlinewidth": 0,
             "ticks": ""
            },
            "type": "mesh3d"
           }
          ],
          "parcoords": [
           {
            "line": {
             "colorbar": {
              "outlinewidth": 0,
              "ticks": ""
             }
            },
            "type": "parcoords"
           }
          ],
          "pie": [
           {
            "automargin": true,
            "type": "pie"
           }
          ],
          "scatter": [
           {
            "fillpattern": {
             "fillmode": "overlay",
             "size": 10,
             "solidity": 0.2
            },
            "type": "scatter"
           }
          ],
          "scatter3d": [
           {
            "line": {
             "colorbar": {
              "outlinewidth": 0,
              "ticks": ""
             }
            },
            "marker": {
             "colorbar": {
              "outlinewidth": 0,
              "ticks": ""
             }
            },
            "type": "scatter3d"
           }
          ],
          "scattercarpet": [
           {
            "marker": {
             "colorbar": {
              "outlinewidth": 0,
              "ticks": ""
             }
            },
            "type": "scattercarpet"
           }
          ],
          "scattergeo": [
           {
            "marker": {
             "colorbar": {
              "outlinewidth": 0,
              "ticks": ""
             }
            },
            "type": "scattergeo"
           }
          ],
          "scattergl": [
           {
            "marker": {
             "colorbar": {
              "outlinewidth": 0,
              "ticks": ""
             }
            },
            "type": "scattergl"
           }
          ],
          "scattermapbox": [
           {
            "marker": {
             "colorbar": {
              "outlinewidth": 0,
              "ticks": ""
             }
            },
            "type": "scattermapbox"
           }
          ],
          "scatterpolar": [
           {
            "marker": {
             "colorbar": {
              "outlinewidth": 0,
              "ticks": ""
             }
            },
            "type": "scatterpolar"
           }
          ],
          "scatterpolargl": [
           {
            "marker": {
             "colorbar": {
              "outlinewidth": 0,
              "ticks": ""
             }
            },
            "type": "scatterpolargl"
           }
          ],
          "scatterternary": [
           {
            "marker": {
             "colorbar": {
              "outlinewidth": 0,
              "ticks": ""
             }
            },
            "type": "scatterternary"
           }
          ],
          "surface": [
           {
            "colorbar": {
             "outlinewidth": 0,
             "ticks": ""
            },
            "colorscale": [
             [
              0,
              "#0d0887"
             ],
             [
              0.1111111111111111,
              "#46039f"
             ],
             [
              0.2222222222222222,
              "#7201a8"
             ],
             [
              0.3333333333333333,
              "#9c179e"
             ],
             [
              0.4444444444444444,
              "#bd3786"
             ],
             [
              0.5555555555555556,
              "#d8576b"
             ],
             [
              0.6666666666666666,
              "#ed7953"
             ],
             [
              0.7777777777777778,
              "#fb9f3a"
             ],
             [
              0.8888888888888888,
              "#fdca26"
             ],
             [
              1,
              "#f0f921"
             ]
            ],
            "type": "surface"
           }
          ],
          "table": [
           {
            "cells": {
             "fill": {
              "color": "#EBF0F8"
             },
             "line": {
              "color": "white"
             }
            },
            "header": {
             "fill": {
              "color": "#C8D4E3"
             },
             "line": {
              "color": "white"
             }
            },
            "type": "table"
           }
          ]
         },
         "layout": {
          "annotationdefaults": {
           "arrowcolor": "#2a3f5f",
           "arrowhead": 0,
           "arrowwidth": 1
          },
          "autotypenumbers": "strict",
          "coloraxis": {
           "colorbar": {
            "outlinewidth": 0,
            "ticks": ""
           }
          },
          "colorscale": {
           "diverging": [
            [
             0,
             "#8e0152"
            ],
            [
             0.1,
             "#c51b7d"
            ],
            [
             0.2,
             "#de77ae"
            ],
            [
             0.3,
             "#f1b6da"
            ],
            [
             0.4,
             "#fde0ef"
            ],
            [
             0.5,
             "#f7f7f7"
            ],
            [
             0.6,
             "#e6f5d0"
            ],
            [
             0.7,
             "#b8e186"
            ],
            [
             0.8,
             "#7fbc41"
            ],
            [
             0.9,
             "#4d9221"
            ],
            [
             1,
             "#276419"
            ]
           ],
           "sequential": [
            [
             0,
             "#0d0887"
            ],
            [
             0.1111111111111111,
             "#46039f"
            ],
            [
             0.2222222222222222,
             "#7201a8"
            ],
            [
             0.3333333333333333,
             "#9c179e"
            ],
            [
             0.4444444444444444,
             "#bd3786"
            ],
            [
             0.5555555555555556,
             "#d8576b"
            ],
            [
             0.6666666666666666,
             "#ed7953"
            ],
            [
             0.7777777777777778,
             "#fb9f3a"
            ],
            [
             0.8888888888888888,
             "#fdca26"
            ],
            [
             1,
             "#f0f921"
            ]
           ],
           "sequentialminus": [
            [
             0,
             "#0d0887"
            ],
            [
             0.1111111111111111,
             "#46039f"
            ],
            [
             0.2222222222222222,
             "#7201a8"
            ],
            [
             0.3333333333333333,
             "#9c179e"
            ],
            [
             0.4444444444444444,
             "#bd3786"
            ],
            [
             0.5555555555555556,
             "#d8576b"
            ],
            [
             0.6666666666666666,
             "#ed7953"
            ],
            [
             0.7777777777777778,
             "#fb9f3a"
            ],
            [
             0.8888888888888888,
             "#fdca26"
            ],
            [
             1,
             "#f0f921"
            ]
           ]
          },
          "colorway": [
           "#636efa",
           "#EF553B",
           "#00cc96",
           "#ab63fa",
           "#FFA15A",
           "#19d3f3",
           "#FF6692",
           "#B6E880",
           "#FF97FF",
           "#FECB52"
          ],
          "font": {
           "color": "#2a3f5f"
          },
          "geo": {
           "bgcolor": "white",
           "lakecolor": "white",
           "landcolor": "#E5ECF6",
           "showlakes": true,
           "showland": true,
           "subunitcolor": "white"
          },
          "hoverlabel": {
           "align": "left"
          },
          "hovermode": "closest",
          "mapbox": {
           "style": "light"
          },
          "paper_bgcolor": "white",
          "plot_bgcolor": "#E5ECF6",
          "polar": {
           "angularaxis": {
            "gridcolor": "white",
            "linecolor": "white",
            "ticks": ""
           },
           "bgcolor": "#E5ECF6",
           "radialaxis": {
            "gridcolor": "white",
            "linecolor": "white",
            "ticks": ""
           }
          },
          "scene": {
           "xaxis": {
            "backgroundcolor": "#E5ECF6",
            "gridcolor": "white",
            "gridwidth": 2,
            "linecolor": "white",
            "showbackground": true,
            "ticks": "",
            "zerolinecolor": "white"
           },
           "yaxis": {
            "backgroundcolor": "#E5ECF6",
            "gridcolor": "white",
            "gridwidth": 2,
            "linecolor": "white",
            "showbackground": true,
            "ticks": "",
            "zerolinecolor": "white"
           },
           "zaxis": {
            "backgroundcolor": "#E5ECF6",
            "gridcolor": "white",
            "gridwidth": 2,
            "linecolor": "white",
            "showbackground": true,
            "ticks": "",
            "zerolinecolor": "white"
           }
          },
          "shapedefaults": {
           "line": {
            "color": "#2a3f5f"
           }
          },
          "ternary": {
           "aaxis": {
            "gridcolor": "white",
            "linecolor": "white",
            "ticks": ""
           },
           "baxis": {
            "gridcolor": "white",
            "linecolor": "white",
            "ticks": ""
           },
           "bgcolor": "#E5ECF6",
           "caxis": {
            "gridcolor": "white",
            "linecolor": "white",
            "ticks": ""
           }
          },
          "title": {
           "x": 0.05
          },
          "xaxis": {
           "automargin": true,
           "gridcolor": "white",
           "linecolor": "white",
           "ticks": "",
           "title": {
            "standoff": 15
           },
           "zerolinecolor": "white",
           "zerolinewidth": 2
          },
          "yaxis": {
           "automargin": true,
           "gridcolor": "white",
           "linecolor": "white",
           "ticks": "",
           "title": {
            "standoff": 15
           },
           "zerolinecolor": "white",
           "zerolinewidth": 2
          }
         }
        }
       }
      },
      "text/html": [
       "<div>                            <div id=\"16b4a99d-b459-417e-8eaf-36a9bc84f782\" class=\"plotly-graph-div\" style=\"height:525px; width:100%;\"></div>            <script type=\"text/javascript\">                require([\"plotly\"], function(Plotly) {                    window.PLOTLYENV=window.PLOTLYENV || {};                                    if (document.getElementById(\"16b4a99d-b459-417e-8eaf-36a9bc84f782\")) {                    Plotly.newPlot(                        \"16b4a99d-b459-417e-8eaf-36a9bc84f782\",                        [{\"colorbar\":{\"title\":{\"text\":\"World map population distribution \"}},\"colorscale\":[[0.0,\"rgb(243, 203, 211)\"],[0.16666666666666666,\"rgb(234, 169, 189)\"],[0.3333333333333333,\"rgb(221, 136, 172)\"],[0.5,\"rgb(202, 105, 157)\"],[0.6666666666666666,\"rgb(177, 77, 142)\"],[0.8333333333333334,\"rgb(145, 53, 125)\"],[1.0,\"rgb(108, 33, 103)\"]],\"locationmode\":\"country names\",\"locations\":[\"China\",\"India\",\"United States\",\"Indonesia\",\"Pakistan\",\"Brazil\",\"Nigeria\",\"Bangladesh\",\"Russia\",\"Mexico\",\"Japan\",\"Ethiopia\",\"Philippines\",\"Egypt\",\"Vietnam\",\"DR Congo\",\"Turkey\",\"Iran\",\"Germany\",\"Thailand\",\"United Kingdom\",\"France\",\"Italy\",\"Tanzania\",\"South Africa\",\"Myanmar\",\"Kenya\",\"South Korea\",\"Colombia\",\"Spain\",\"Uganda\",\"Argentina\",\"Algeria\",\"Sudan\",\"Ukraine\",\"Iraq\",\"Afghanistan\",\"Poland\",\"Canada\",\"Morocco\",\"Saudi Arabia\",\"Uzbekistan\",\"Peru\",\"Angola\",\"Malaysia\",\"Mozambique\",\"Ghana\",\"Yemen\",\"Nepal\",\"Venezuela\",\"Madagascar\",\"Cameroon\",\"C\\u00f4te d'Ivoire\",\"North Korea\",\"Australia\",\"Niger\",\"Taiwan\",\"Sri Lanka\",\"Burkina Faso\",\"Mali\",\"Romania\",\"Malawi\",\"Chile\",\"Kazakhstan\",\"Zambia\",\"Guatemala\",\"Ecuador\",\"Syria\",\"Netherlands\",\"Senegal\",\"Cambodia\",\"Chad\",\"Somalia\",\"Zimbabwe\",\"Guinea\",\"Rwanda\",\"Benin\",\"Burundi\",\"Tunisia\",\"Bolivia\",\"Belgium\",\"Haiti\",\"Cuba\",\"South Sudan\",\"Dominican Republic\",\"Czech Republic (Czechia)\",\"Greece\",\"Jordan\",\"Portugal\",\"Azerbaijan\",\"Sweden\",\"Honduras\",\"United Arab Emirates\",\"Hungary\",\"Tajikistan\",\"Belarus\",\"Austria\",\"Papua New Guinea\",\"Serbia\",\"Israel\",\"Switzerland\",\"Togo\",\"Sierra Leone\",\"Hong Kong\",\"Laos\",\"Paraguay\",\"Bulgaria\",\"Libya\",\"Lebanon\",\"Nicaragua\",\"Kyrgyzstan\",\"El Salvador\",\"Turkmenistan\",\"Singapore\",\"Denmark\",\"Finland\",\"Congo\",\"Slovakia\",\"Norway\",\"Oman\",\"State of Palestine\",\"Costa Rica\",\"Liberia\",\"Ireland\",\"Central African Republic\",\"New Zealand\",\"Mauritania\",\"Panama\",\"Kuwait\",\"Croatia\",\"Moldova\",\"Georgia\",\"Eritrea\",\"Uruguay\",\"Bosnia and Herzegovina\",\"Mongolia\",\"Armenia\",\"Jamaica\",\"Qatar\",\"Albania\",\"Puerto Rico\",\"Lithuania\",\"Namibia\",\"Gambia\",\"Botswana\",\"Gabon\",\"Lesotho\",\"North Macedonia\",\"Slovenia\",\"Guinea-Bissau\",\"Latvia\",\"Bahrain\",\"Equatorial Guinea\",\"Trinidad and Tobago\",\"Estonia\",\"Timor-Leste\",\"Mauritius\",\"Cyprus\",\"Eswatini\",\"Djibouti\",\"Fiji\",\"R\\u00e9union\",\"Comoros\",\"Guyana\",\"Bhutan\",\"Solomon Islands\",\"Macao\",\"Montenegro\",\"Luxembourg\",\"Western Sahara\",\"Suriname\",\"Cabo Verde\",\"Maldives\",\"Malta\",\"Brunei\",\"Guadeloupe\",\"Belize\",\"Bahamas\",\"Martinique\",\"Iceland\",\"Vanuatu\",\"French Guiana\",\"Barbados\",\"New Caledonia\",\"French Polynesia\",\"Mayotte\",\"Sao Tome & Principe\",\"Samoa\",\"Saint Lucia\",\"Channel Islands\",\"Guam\",\"Cura\\u00e7ao\",\"Kiribati\",\"Micronesia\",\"Grenada\",\"St. Vincent & Grenadines\",\"Aruba\",\"Tonga\",\"U.S. Virgin Islands\",\"Seychelles\",\"Antigua and Barbuda\",\"Isle of Man\",\"Andorra\",\"Dominica\",\"Cayman Islands\",\"Bermuda\",\"Marshall Islands\",\"Northern Mariana Islands\",\"Greenland\",\"American Samoa\",\"Saint Kitts & Nevis\",\"Faeroe Islands\",\"Sint Maarten\",\"Monaco\",\"Turks and Caicos\",\"Saint Martin\",\"Liechtenstein\",\"San Marino\",\"Gibraltar\",\"British Virgin Islands\",\"Caribbean Netherlands\",\"Palau\",\"Cook Islands\",\"Anguilla\",\"Tuvalu\",\"Wallis & Futuna\",\"Nauru\",\"Saint Barthelemy\",\"Saint Helena\",\"Saint Pierre & Miquelon\",\"Montserrat\",\"Falkland Islands\",\"Niue\",\"Tokelau\",\"Holy See\"],\"text\":[\"18.47 %\",\"17.70 %\",\"4.25 %\",\"3.51 %\",\"2.83 %\",\"2.73 %\",\"2.64 %\",\"2.11 %\",\"1.87 %\",\"1.65 %\",\"1.62 %\",\"1.47 %\",\"1.41 %\",\"1.31 %\",\"1.25 %\",\"1.15 %\",\"1.08 %\",\"1.08 %\",\"1.07 %\",\"0.90 %\",\"0.87 %\",\"0.84 %\",\"0.78 %\",\"0.77 %\",\"0.76 %\",\"0.70 %\",\"0.69 %\",\"0.66 %\",\"0.65 %\",\"0.60 %\",\"0.59 %\",\"0.58 %\",\"0.56 %\",\"0.56 %\",\"0.56 %\",\"0.52 %\",\"0.50 %\",\"0.49 %\",\"0.48 %\",\"0.47 %\",\"0.45 %\",\"0.43 %\",\"0.42 %\",\"0.42 %\",\"0.42 %\",\"0.40 %\",\"0.40 %\",\"0.38 %\",\"0.37 %\",\"0.36 %\",\"0.36 %\",\"0.34 %\",\"0.34 %\",\"0.33 %\",\"0.33 %\",\"0.31 %\",\"0.31 %\",\"0.27 %\",\"0.27 %\",\"0.26 %\",\"0.25 %\",\"0.25 %\",\"0.25 %\",\"0.24 %\",\"0.24 %\",\"0.23 %\",\"0.23 %\",\"0.22 %\",\"0.22 %\",\"0.21 %\",\"0.21 %\",\"0.21 %\",\"0.20 %\",\"0.19 %\",\"0.17 %\",\"0.17 %\",\"0.16 %\",\"0.15 %\",\"0.15 %\",\"0.15 %\",\"0.15 %\",\"0.15 %\",\"0.15 %\",\"0.14 %\",\"0.14 %\",\"0.14 %\",\"0.13 %\",\"0.13 %\",\"0.13 %\",\"0.13 %\",\"0.13 %\",\"0.13 %\",\"0.13 %\",\"0.12 %\",\"0.12 %\",\"0.12 %\",\"0.12 %\",\"0.11 %\",\"0.11 %\",\"0.11 %\",\"0.11 %\",\"0.11 %\",\"0.10 %\",\"0.10 %\",\"0.09 %\",\"0.09 %\",\"0.09 %\",\"0.09 %\",\"0.09 %\",\"0.08 %\",\"0.08 %\",\"0.08 %\",\"0.08 %\",\"0.08 %\",\"0.07 %\",\"0.07 %\",\"0.07 %\",\"0.07 %\",\"0.07 %\",\"0.07 %\",\"0.07 %\",\"0.07 %\",\"0.06 %\",\"0.06 %\",\"0.06 %\",\"0.06 %\",\"0.06 %\",\"0.06 %\",\"0.05 %\",\"0.05 %\",\"0.05 %\",\"0.05 %\",\"0.05 %\",\"0.04 %\",\"0.04 %\",\"0.04 %\",\"0.04 %\",\"0.04 %\",\"0.04 %\",\"0.04 %\",\"0.04 %\",\"0.03 %\",\"0.03 %\",\"0.03 %\",\"0.03 %\",\"0.03 %\",\"0.03 %\",\"0.03 %\",\"0.03 %\",\"0.03 %\",\"0.02 %\",\"0.02 %\",\"0.02 %\",\"0.02 %\",\"0.02 %\",\"0.02 %\",\"0.02 %\",\"0.02 %\",\"0.01 %\",\"0.01 %\",\"0.01 %\",\"0.01 %\",\"0.01 %\",\"0.01 %\",\"0.01 %\",\"0.01 %\",\"0.01 %\",\"0.01 %\",\"0.01 %\",\"0.01 %\",\"0.01 %\",\"0.01 %\",\"0.01 %\",\"0.01 %\",\"0.01 %\",\"0.01 %\",\"0.01 %\",\"0.01 %\",\"0.00 %\",\"0.00 %\",\"0.00 %\",\"0.00 %\",\"0.00 %\",\"0.00 %\",\"0.00 %\",\"0.00 %\",\"0.00 %\",\"0.00 %\",\"0.00 %\",\"0.00 %\",\"0.00 %\",\"0.00 %\",\"0.00 %\",\"0.00 %\",\"0.00 %\",\"0.00 %\",\"0.00 %\",\"0.00 %\",\"0.00 %\",\"0.00 %\",\"0.00 %\",\"0.00 %\",\"0.00 %\",\"0.00 %\",\"0.00 %\",\"0.00 %\",\"0.00 %\",\"0.00 %\",\"0.00 %\",\"0.00 %\",\"0.00 %\",\"0.00 %\",\"0.00 %\",\"0.00 %\",\"0.00 %\",\"0.00 %\",\"0.00 %\",\"0.00 %\",\"0.00 %\",\"0.00 %\",\"0.00 %\",\"0.00 %\",\"0.00 %\",\"0.00 %\",\"0.00 %\",\"0.00 %\",\"0.00 %\",\"0.00 %\",\"0.00 %\",\"0.00 %\",\"0.00 %\",\"0.00 %\",\"0.00 %\",\"0.00 %\",\"0.00 %\"],\"z\":[1440297825,1382345085,331341050,274021604,221612785,212821986,206984347,164972348,145945524,129166028,126407422,115434444,109830324,102659126,97490013,90003954,84495243,84176929,83830972,69830779,67948282,65298930,60446035,60012400,59436725,54473253,53968739,51276977,50976248,46757980,45974931,45267449,43984569,44019263,43686577,40372771,39074280,37839255,37799407,36985624,34905942,33551824,33050211,33032075,32436963,31398811,31181428,29935468,29225196,28421581,27808395,26655083,26486282,25798588,25550683,24346468,23824369,21428970,20997293,20346106,19214608,19211425,19144605,18815231,18468257,17971382,17688599,17571053,17141544,16816539,16758448,16502877,15965848,14899771,13191279,13005303,12175480,11948454,11839918,11700207,11598451,11426356,11325391,11216250,10866667,10712481,10413936,10220604,10191409,10154978,10110233,9931333,9910892,9655983,9573310,9448772,9015361,8975531,8731081,8678517,8665615,8310934,8004158,7507523,7293542,7147553,6939018,6887247,6819976,6638075,6542426,6491923,6046292,5858322,5795780,5542237,5540555,5460109,5428594,5128058,5121112,5102158,5077411,4947267,4843954,4829021,4669775,4326296,4281320,4100719,4032294,3987805,3554797,3475842,3277152,3287242,2964219,2963429,2889284,2877239,2846860,2715340,2548663,2427782,2359585,2234448,2145194,2083359,2078989,1975718,1882408,1711057,1410419,1400283,1326693,1322667,1272140,1208886,1162233,990447,897573,896422,872695,787215,773069,689671,650846,628080,627704,599769,587541,557026,542151,441750,438202,400136,398845,393893,375213,341628,308337,299958,287437,285972,281191,273905,219844,198643,183774,174140,169031,164211,119760,115231,112614,111002,106845,105901,104398,98453,98069,85112,77287,72017,65854,62237,59259,57619,56787,55169,53264,48896,42960,39290,38806,38778,38147,33944,33689,30266,26265,18109,17567,15026,11817,11203,10836,9882,6080,5789,4993,3497,1628,1360,801],\"type\":\"choropleth\"}],                        {\"geo\":{\"scope\":\"world\"},\"template\":{\"data\":{\"histogram2dcontour\":[{\"type\":\"histogram2dcontour\",\"colorbar\":{\"outlinewidth\":0,\"ticks\":\"\"},\"colorscale\":[[0.0,\"#0d0887\"],[0.1111111111111111,\"#46039f\"],[0.2222222222222222,\"#7201a8\"],[0.3333333333333333,\"#9c179e\"],[0.4444444444444444,\"#bd3786\"],[0.5555555555555556,\"#d8576b\"],[0.6666666666666666,\"#ed7953\"],[0.7777777777777778,\"#fb9f3a\"],[0.8888888888888888,\"#fdca26\"],[1.0,\"#f0f921\"]]}],\"choropleth\":[{\"type\":\"choropleth\",\"colorbar\":{\"outlinewidth\":0,\"ticks\":\"\"}}],\"histogram2d\":[{\"type\":\"histogram2d\",\"colorbar\":{\"outlinewidth\":0,\"ticks\":\"\"},\"colorscale\":[[0.0,\"#0d0887\"],[0.1111111111111111,\"#46039f\"],[0.2222222222222222,\"#7201a8\"],[0.3333333333333333,\"#9c179e\"],[0.4444444444444444,\"#bd3786\"],[0.5555555555555556,\"#d8576b\"],[0.6666666666666666,\"#ed7953\"],[0.7777777777777778,\"#fb9f3a\"],[0.8888888888888888,\"#fdca26\"],[1.0,\"#f0f921\"]]}],\"heatmap\":[{\"type\":\"heatmap\",\"colorbar\":{\"outlinewidth\":0,\"ticks\":\"\"},\"colorscale\":[[0.0,\"#0d0887\"],[0.1111111111111111,\"#46039f\"],[0.2222222222222222,\"#7201a8\"],[0.3333333333333333,\"#9c179e\"],[0.4444444444444444,\"#bd3786\"],[0.5555555555555556,\"#d8576b\"],[0.6666666666666666,\"#ed7953\"],[0.7777777777777778,\"#fb9f3a\"],[0.8888888888888888,\"#fdca26\"],[1.0,\"#f0f921\"]]}],\"heatmapgl\":[{\"type\":\"heatmapgl\",\"colorbar\":{\"outlinewidth\":0,\"ticks\":\"\"},\"colorscale\":[[0.0,\"#0d0887\"],[0.1111111111111111,\"#46039f\"],[0.2222222222222222,\"#7201a8\"],[0.3333333333333333,\"#9c179e\"],[0.4444444444444444,\"#bd3786\"],[0.5555555555555556,\"#d8576b\"],[0.6666666666666666,\"#ed7953\"],[0.7777777777777778,\"#fb9f3a\"],[0.8888888888888888,\"#fdca26\"],[1.0,\"#f0f921\"]]}],\"contourcarpet\":[{\"type\":\"contourcarpet\",\"colorbar\":{\"outlinewidth\":0,\"ticks\":\"\"}}],\"contour\":[{\"type\":\"contour\",\"colorbar\":{\"outlinewidth\":0,\"ticks\":\"\"},\"colorscale\":[[0.0,\"#0d0887\"],[0.1111111111111111,\"#46039f\"],[0.2222222222222222,\"#7201a8\"],[0.3333333333333333,\"#9c179e\"],[0.4444444444444444,\"#bd3786\"],[0.5555555555555556,\"#d8576b\"],[0.6666666666666666,\"#ed7953\"],[0.7777777777777778,\"#fb9f3a\"],[0.8888888888888888,\"#fdca26\"],[1.0,\"#f0f921\"]]}],\"surface\":[{\"type\":\"surface\",\"colorbar\":{\"outlinewidth\":0,\"ticks\":\"\"},\"colorscale\":[[0.0,\"#0d0887\"],[0.1111111111111111,\"#46039f\"],[0.2222222222222222,\"#7201a8\"],[0.3333333333333333,\"#9c179e\"],[0.4444444444444444,\"#bd3786\"],[0.5555555555555556,\"#d8576b\"],[0.6666666666666666,\"#ed7953\"],[0.7777777777777778,\"#fb9f3a\"],[0.8888888888888888,\"#fdca26\"],[1.0,\"#f0f921\"]]}],\"mesh3d\":[{\"type\":\"mesh3d\",\"colorbar\":{\"outlinewidth\":0,\"ticks\":\"\"}}],\"scatter\":[{\"fillpattern\":{\"fillmode\":\"overlay\",\"size\":10,\"solidity\":0.2},\"type\":\"scatter\"}],\"parcoords\":[{\"type\":\"parcoords\",\"line\":{\"colorbar\":{\"outlinewidth\":0,\"ticks\":\"\"}}}],\"scatterpolargl\":[{\"type\":\"scatterpolargl\",\"marker\":{\"colorbar\":{\"outlinewidth\":0,\"ticks\":\"\"}}}],\"bar\":[{\"error_x\":{\"color\":\"#2a3f5f\"},\"error_y\":{\"color\":\"#2a3f5f\"},\"marker\":{\"line\":{\"color\":\"#E5ECF6\",\"width\":0.5},\"pattern\":{\"fillmode\":\"overlay\",\"size\":10,\"solidity\":0.2}},\"type\":\"bar\"}],\"scattergeo\":[{\"type\":\"scattergeo\",\"marker\":{\"colorbar\":{\"outlinewidth\":0,\"ticks\":\"\"}}}],\"scatterpolar\":[{\"type\":\"scatterpolar\",\"marker\":{\"colorbar\":{\"outlinewidth\":0,\"ticks\":\"\"}}}],\"histogram\":[{\"marker\":{\"pattern\":{\"fillmode\":\"overlay\",\"size\":10,\"solidity\":0.2}},\"type\":\"histogram\"}],\"scattergl\":[{\"type\":\"scattergl\",\"marker\":{\"colorbar\":{\"outlinewidth\":0,\"ticks\":\"\"}}}],\"scatter3d\":[{\"type\":\"scatter3d\",\"line\":{\"colorbar\":{\"outlinewidth\":0,\"ticks\":\"\"}},\"marker\":{\"colorbar\":{\"outlinewidth\":0,\"ticks\":\"\"}}}],\"scattermapbox\":[{\"type\":\"scattermapbox\",\"marker\":{\"colorbar\":{\"outlinewidth\":0,\"ticks\":\"\"}}}],\"scatterternary\":[{\"type\":\"scatterternary\",\"marker\":{\"colorbar\":{\"outlinewidth\":0,\"ticks\":\"\"}}}],\"scattercarpet\":[{\"type\":\"scattercarpet\",\"marker\":{\"colorbar\":{\"outlinewidth\":0,\"ticks\":\"\"}}}],\"carpet\":[{\"aaxis\":{\"endlinecolor\":\"#2a3f5f\",\"gridcolor\":\"white\",\"linecolor\":\"white\",\"minorgridcolor\":\"white\",\"startlinecolor\":\"#2a3f5f\"},\"baxis\":{\"endlinecolor\":\"#2a3f5f\",\"gridcolor\":\"white\",\"linecolor\":\"white\",\"minorgridcolor\":\"white\",\"startlinecolor\":\"#2a3f5f\"},\"type\":\"carpet\"}],\"table\":[{\"cells\":{\"fill\":{\"color\":\"#EBF0F8\"},\"line\":{\"color\":\"white\"}},\"header\":{\"fill\":{\"color\":\"#C8D4E3\"},\"line\":{\"color\":\"white\"}},\"type\":\"table\"}],\"barpolar\":[{\"marker\":{\"line\":{\"color\":\"#E5ECF6\",\"width\":0.5},\"pattern\":{\"fillmode\":\"overlay\",\"size\":10,\"solidity\":0.2}},\"type\":\"barpolar\"}],\"pie\":[{\"automargin\":true,\"type\":\"pie\"}]},\"layout\":{\"autotypenumbers\":\"strict\",\"colorway\":[\"#636efa\",\"#EF553B\",\"#00cc96\",\"#ab63fa\",\"#FFA15A\",\"#19d3f3\",\"#FF6692\",\"#B6E880\",\"#FF97FF\",\"#FECB52\"],\"font\":{\"color\":\"#2a3f5f\"},\"hovermode\":\"closest\",\"hoverlabel\":{\"align\":\"left\"},\"paper_bgcolor\":\"white\",\"plot_bgcolor\":\"#E5ECF6\",\"polar\":{\"bgcolor\":\"#E5ECF6\",\"angularaxis\":{\"gridcolor\":\"white\",\"linecolor\":\"white\",\"ticks\":\"\"},\"radialaxis\":{\"gridcolor\":\"white\",\"linecolor\":\"white\",\"ticks\":\"\"}},\"ternary\":{\"bgcolor\":\"#E5ECF6\",\"aaxis\":{\"gridcolor\":\"white\",\"linecolor\":\"white\",\"ticks\":\"\"},\"baxis\":{\"gridcolor\":\"white\",\"linecolor\":\"white\",\"ticks\":\"\"},\"caxis\":{\"gridcolor\":\"white\",\"linecolor\":\"white\",\"ticks\":\"\"}},\"coloraxis\":{\"colorbar\":{\"outlinewidth\":0,\"ticks\":\"\"}},\"colorscale\":{\"sequential\":[[0.0,\"#0d0887\"],[0.1111111111111111,\"#46039f\"],[0.2222222222222222,\"#7201a8\"],[0.3333333333333333,\"#9c179e\"],[0.4444444444444444,\"#bd3786\"],[0.5555555555555556,\"#d8576b\"],[0.6666666666666666,\"#ed7953\"],[0.7777777777777778,\"#fb9f3a\"],[0.8888888888888888,\"#fdca26\"],[1.0,\"#f0f921\"]],\"sequentialminus\":[[0.0,\"#0d0887\"],[0.1111111111111111,\"#46039f\"],[0.2222222222222222,\"#7201a8\"],[0.3333333333333333,\"#9c179e\"],[0.4444444444444444,\"#bd3786\"],[0.5555555555555556,\"#d8576b\"],[0.6666666666666666,\"#ed7953\"],[0.7777777777777778,\"#fb9f3a\"],[0.8888888888888888,\"#fdca26\"],[1.0,\"#f0f921\"]],\"diverging\":[[0,\"#8e0152\"],[0.1,\"#c51b7d\"],[0.2,\"#de77ae\"],[0.3,\"#f1b6da\"],[0.4,\"#fde0ef\"],[0.5,\"#f7f7f7\"],[0.6,\"#e6f5d0\"],[0.7,\"#b8e186\"],[0.8,\"#7fbc41\"],[0.9,\"#4d9221\"],[1,\"#276419\"]]},\"xaxis\":{\"gridcolor\":\"white\",\"linecolor\":\"white\",\"ticks\":\"\",\"title\":{\"standoff\":15},\"zerolinecolor\":\"white\",\"automargin\":true,\"zerolinewidth\":2},\"yaxis\":{\"gridcolor\":\"white\",\"linecolor\":\"white\",\"ticks\":\"\",\"title\":{\"standoff\":15},\"zerolinecolor\":\"white\",\"automargin\":true,\"zerolinewidth\":2},\"scene\":{\"xaxis\":{\"backgroundcolor\":\"#E5ECF6\",\"gridcolor\":\"white\",\"linecolor\":\"white\",\"showbackground\":true,\"ticks\":\"\",\"zerolinecolor\":\"white\",\"gridwidth\":2},\"yaxis\":{\"backgroundcolor\":\"#E5ECF6\",\"gridcolor\":\"white\",\"linecolor\":\"white\",\"showbackground\":true,\"ticks\":\"\",\"zerolinecolor\":\"white\",\"gridwidth\":2},\"zaxis\":{\"backgroundcolor\":\"#E5ECF6\",\"gridcolor\":\"white\",\"linecolor\":\"white\",\"showbackground\":true,\"ticks\":\"\",\"zerolinecolor\":\"white\",\"gridwidth\":2}},\"shapedefaults\":{\"line\":{\"color\":\"#2a3f5f\"}},\"annotationdefaults\":{\"arrowcolor\":\"#2a3f5f\",\"arrowhead\":0,\"arrowwidth\":1},\"geo\":{\"bgcolor\":\"white\",\"landcolor\":\"#E5ECF6\",\"subunitcolor\":\"white\",\"showland\":true,\"showlakes\":true,\"lakecolor\":\"white\"},\"title\":{\"x\":0.05},\"mapbox\":{\"style\":\"light\"}}}},                        {\"responsive\": true}                    ).then(function(){\n",
       "                            \n",
       "var gd = document.getElementById('16b4a99d-b459-417e-8eaf-36a9bc84f782');\n",
       "var x = new MutationObserver(function (mutations, observer) {{\n",
       "        var display = window.getComputedStyle(gd).display;\n",
       "        if (!display || display === 'none') {{\n",
       "            console.log([gd, 'removed!']);\n",
       "            Plotly.purge(gd);\n",
       "            observer.disconnect();\n",
       "        }}\n",
       "}});\n",
       "\n",
       "// Listen for the removal of the full notebook cells\n",
       "var notebookContainer = gd.closest('#notebook-container');\n",
       "if (notebookContainer) {{\n",
       "    x.observe(notebookContainer, {childList: true});\n",
       "}}\n",
       "\n",
       "// Listen for the clearing of the current output cell\n",
       "var outputEl = gd.closest('.output');\n",
       "if (outputEl) {{\n",
       "    x.observe(outputEl, {childList: true});\n",
       "}}\n",
       "\n",
       "                        })                };                });            </script>        </div>"
      ]
     },
     "metadata": {},
     "output_type": "display_data"
    }
   ],
   "source": [
    "iplot(choromap,validate=False)"
   ]
  },
  {
   "cell_type": "code",
   "execution_count": 80,
   "metadata": {},
   "outputs": [
    {
     "name": "stderr",
     "output_type": "stream",
     "text": [
      "<ipython-input-80-3e2fc22c00ed>:3: SettingWithCopyWarning:\n",
      "\n",
      "\n",
      "A value is trying to be set on a copy of a slice from a DataFrame.\n",
      "Try using .loc[row_indexer,col_indexer] = value instead\n",
      "\n",
      "See the caveats in the documentation: https://pandas.pydata.org/pandas-docs/stable/user_guide/indexing.html#returning-a-view-versus-a-copy\n",
      "\n"
     ]
    }
   ],
   "source": [
    "filterdf = df[df['Urban Pop %']!='N.A.']\n",
    "df['Urban Pop %'] = df['Urban Pop %'].str.replace('%',\"\")\n",
    "filterdf['Urban Pop %'] = filterdf['Urban Pop %'].astype(int)"
   ]
  },
  {
   "cell_type": "code",
   "execution_count": 94,
   "metadata": {},
   "outputs": [],
   "source": [
    "data1 = dict(type='choropleth',\n",
    "           locations=filterdf['Country (or dependency)'],\n",
    "           locationmode=\"country names\",\n",
    "           colorscale='turbo',\n",
    "           text=filterdf['Density (P/Km²)'],\n",
    "           z=filterdf['Urban Pop %'],\n",
    "           colorbar={'title':'World map urban population distribution '})"
   ]
  },
  {
   "cell_type": "code",
   "execution_count": 95,
   "metadata": {},
   "outputs": [],
   "source": [
    "layout = dict(geo={'scope':'world'})\n",
    "choromap = go.Figure(data = [data1],layout = layout)"
   ]
  },
  {
   "cell_type": "code",
   "execution_count": 96,
   "metadata": {},
   "outputs": [
    {
     "data": {
      "application/vnd.plotly.v1+json": {
       "config": {
        "linkText": "Export to plot.ly",
        "plotlyServerURL": "https://plot.ly",
        "showLink": false
       },
       "data": [
        {
         "colorbar": {
          "title": {
           "text": "World map urban population distribution "
          }
         },
         "colorscale": [
          [
           0,
           "#30123b"
          ],
          [
           0.07142857142857142,
           "#4145ab"
          ],
          [
           0.14285714285714285,
           "#4675ed"
          ],
          [
           0.21428571428571427,
           "#39a2fc"
          ],
          [
           0.2857142857142857,
           "#1bcfd4"
          ],
          [
           0.35714285714285715,
           "#24eca6"
          ],
          [
           0.42857142857142855,
           "#61fc6c"
          ],
          [
           0.5,
           "#a4fc3b"
          ],
          [
           0.5714285714285714,
           "#d1e834"
          ],
          [
           0.6428571428571429,
           "#f3c63a"
          ],
          [
           0.7142857142857143,
           "#fe9b2d"
          ],
          [
           0.7857142857142857,
           "#f36315"
          ],
          [
           0.8571428571428571,
           "#d93806"
          ],
          [
           0.9285714285714286,
           "#b11901"
          ],
          [
           1,
           "#7a0402"
          ]
         ],
         "locationmode": "country names",
         "locations": [
          "China",
          "India",
          "United States",
          "Indonesia",
          "Pakistan",
          "Brazil",
          "Nigeria",
          "Bangladesh",
          "Russia",
          "Mexico",
          "Japan",
          "Ethiopia",
          "Philippines",
          "Egypt",
          "Vietnam",
          "DR Congo",
          "Turkey",
          "Iran",
          "Germany",
          "Thailand",
          "United Kingdom",
          "France",
          "Italy",
          "Tanzania",
          "South Africa",
          "Myanmar",
          "Kenya",
          "South Korea",
          "Colombia",
          "Spain",
          "Uganda",
          "Argentina",
          "Algeria",
          "Sudan",
          "Ukraine",
          "Iraq",
          "Afghanistan",
          "Poland",
          "Canada",
          "Morocco",
          "Saudi Arabia",
          "Uzbekistan",
          "Peru",
          "Angola",
          "Malaysia",
          "Mozambique",
          "Ghana",
          "Yemen",
          "Nepal",
          "Madagascar",
          "Cameroon",
          "Côte d'Ivoire",
          "North Korea",
          "Australia",
          "Niger",
          "Taiwan",
          "Sri Lanka",
          "Burkina Faso",
          "Mali",
          "Romania",
          "Malawi",
          "Chile",
          "Kazakhstan",
          "Zambia",
          "Guatemala",
          "Ecuador",
          "Syria",
          "Netherlands",
          "Senegal",
          "Cambodia",
          "Chad",
          "Somalia",
          "Zimbabwe",
          "Guinea",
          "Rwanda",
          "Benin",
          "Burundi",
          "Tunisia",
          "Bolivia",
          "Belgium",
          "Haiti",
          "Cuba",
          "South Sudan",
          "Dominican Republic",
          "Czech Republic (Czechia)",
          "Greece",
          "Jordan",
          "Portugal",
          "Azerbaijan",
          "Sweden",
          "Honduras",
          "United Arab Emirates",
          "Hungary",
          "Tajikistan",
          "Belarus",
          "Austria",
          "Papua New Guinea",
          "Serbia",
          "Israel",
          "Switzerland",
          "Togo",
          "Sierra Leone",
          "Laos",
          "Paraguay",
          "Bulgaria",
          "Libya",
          "Lebanon",
          "Nicaragua",
          "Kyrgyzstan",
          "El Salvador",
          "Turkmenistan",
          "Denmark",
          "Finland",
          "Congo",
          "Slovakia",
          "Norway",
          "Oman",
          "State of Palestine",
          "Costa Rica",
          "Liberia",
          "Ireland",
          "Central African Republic",
          "New Zealand",
          "Mauritania",
          "Panama",
          "Croatia",
          "Moldova",
          "Georgia",
          "Eritrea",
          "Uruguay",
          "Bosnia and Herzegovina",
          "Mongolia",
          "Armenia",
          "Jamaica",
          "Qatar",
          "Albania",
          "Lithuania",
          "Namibia",
          "Gambia",
          "Botswana",
          "Gabon",
          "Lesotho",
          "North Macedonia",
          "Slovenia",
          "Guinea-Bissau",
          "Latvia",
          "Bahrain",
          "Equatorial Guinea",
          "Trinidad and Tobago",
          "Estonia",
          "Timor-Leste",
          "Mauritius",
          "Cyprus",
          "Eswatini",
          "Djibouti",
          "Fiji",
          "Réunion",
          "Comoros",
          "Guyana",
          "Bhutan",
          "Solomon Islands",
          "Montenegro",
          "Luxembourg",
          "Western Sahara",
          "Suriname",
          "Cabo Verde",
          "Maldives",
          "Malta",
          "Brunei",
          "Belize",
          "Bahamas",
          "Martinique",
          "Iceland",
          "Vanuatu",
          "French Guiana",
          "Barbados",
          "New Caledonia",
          "French Polynesia",
          "Mayotte",
          "Sao Tome & Principe",
          "Samoa",
          "Saint Lucia",
          "Channel Islands",
          "Guam",
          "Curaçao",
          "Kiribati",
          "Micronesia",
          "Grenada",
          "St. Vincent & Grenadines",
          "Aruba",
          "Tonga",
          "U.S. Virgin Islands",
          "Seychelles",
          "Antigua and Barbuda",
          "Isle of Man",
          "Andorra",
          "Dominica",
          "Cayman Islands",
          "Bermuda",
          "Marshall Islands",
          "Northern Mariana Islands",
          "Greenland",
          "American Samoa",
          "Saint Kitts & Nevis",
          "Faeroe Islands",
          "Sint Maarten",
          "Turks and Caicos",
          "Saint Martin",
          "Liechtenstein",
          "San Marino",
          "British Virgin Islands",
          "Caribbean Netherlands",
          "Cook Islands",
          "Tuvalu",
          "Wallis & Futuna",
          "Saint Barthelemy",
          "Saint Helena",
          "Saint Pierre & Miquelon",
          "Montserrat",
          "Falkland Islands",
          "Niue",
          "Tokelau"
         ],
         "text": [
          153,
          464,
          36,
          151,
          287,
          25,
          226,
          1265,
          9,
          66,
          347,
          115,
          368,
          103,
          314,
          40,
          110,
          52,
          240,
          137,
          281,
          119,
          206,
          67,
          49,
          83,
          94,
          527,
          46,
          94,
          229,
          17,
          18,
          25,
          75,
          93,
          60,
          124,
          4,
          83,
          16,
          79,
          26,
          26,
          99,
          40,
          137,
          56,
          203,
          48,
          56,
          83,
          214,
          3,
          19,
          673,
          341,
          76,
          17,
          84,
          203,
          26,
          7,
          25,
          167,
          71,
          95,
          508,
          87,
          95,
          13,
          25,
          38,
          53,
          525,
          108,
          463,
          76,
          11,
          383,
          414,
          106,
          18,
          225,
          139,
          81,
          115,
          111,
          123,
          25,
          89,
          118,
          107,
          68,
          47,
          109,
          20,
          100,
          400,
          219,
          152,
          111,
          32,
          18,
          64,
          4,
          667,
          55,
          34,
          313,
          13,
          137,
          18,
          16,
          114,
          15,
          16,
          847,
          100,
          53,
          72,
          8,
          18,
          5,
          58,
          73,
          123,
          57,
          35,
          20,
          64,
          2,
          104,
          273,
          248,
          105,
          43,
          3,
          239,
          4,
          9,
          71,
          83,
          103,
          70,
          30,
          2239,
          50,
          273,
          31,
          89,
          626,
          131,
          67,
          43,
          49,
          358,
          467,
          4,
          20,
          25,
          47,
          242,
          2,
          4,
          138,
          1802,
          1380,
          83,
          17,
          39,
          354,
          3,
          25,
          4,
          668,
          16,
          77,
          728,
          228,
          70,
          301,
          915,
          313,
          370,
          147,
          164,
          331,
          284,
          593,
          147,
          298,
          214,
          223,
          149,
          164,
          96,
          274,
          1246,
          329,
          125,
          0,
          276,
          205,
          35,
          1261,
          41,
          730,
          238,
          566,
          202,
          80,
          73,
          393,
          80,
          470,
          16,
          25,
          50,
          0,
          6,
          136
         ],
         "type": "choropleth",
         "z": [
          61,
          35,
          83,
          56,
          35,
          88,
          52,
          39,
          74,
          84,
          92,
          21,
          47,
          43,
          38,
          46,
          76,
          76,
          76,
          51,
          83,
          82,
          69,
          37,
          67,
          31,
          28,
          82,
          80,
          80,
          26,
          93,
          73,
          35,
          69,
          73,
          25,
          60,
          81,
          64,
          84,
          50,
          79,
          67,
          78,
          38,
          57,
          38,
          21,
          39,
          56,
          51,
          63,
          86,
          17,
          79,
          18,
          31,
          44,
          55,
          18,
          85,
          58,
          45,
          52,
          63,
          60,
          92,
          49,
          24,
          23,
          47,
          38,
          39,
          18,
          48,
          14,
          70,
          69,
          98,
          57,
          78,
          25,
          85,
          74,
          85,
          91,
          66,
          56,
          88,
          57,
          86,
          72,
          27,
          79,
          57,
          13,
          56,
          93,
          74,
          43,
          43,
          36,
          62,
          76,
          78,
          78,
          57,
          36,
          73,
          53,
          88,
          86,
          70,
          54,
          83,
          87,
          80,
          80,
          53,
          63,
          43,
          87,
          57,
          68,
          58,
          43,
          58,
          63,
          96,
          52,
          67,
          63,
          55,
          96,
          63,
          71,
          55,
          59,
          73,
          87,
          31,
          59,
          55,
          45,
          69,
          89,
          73,
          52,
          68,
          33,
          41,
          67,
          30,
          79,
          59,
          100,
          29,
          27,
          46,
          23,
          68,
          88,
          87,
          65,
          68,
          35,
          93,
          80,
          46,
          86,
          92,
          94,
          24,
          87,
          31,
          72,
          64,
          46,
          74,
          18,
          19,
          30,
          95,
          89,
          57,
          21,
          35,
          53,
          44,
          24,
          96,
          56,
          26,
          53,
          88,
          74,
          97,
          97,
          70,
          88,
          87,
          88,
          33,
          43,
          96,
          89,
          0,
          15,
          97,
          52,
          75,
          75,
          62,
          0,
          0,
          27,
          100,
          10,
          66,
          46,
          0
         ]
        }
       ],
       "layout": {
        "geo": {
         "scope": "world"
        },
        "template": {
         "data": {
          "bar": [
           {
            "error_x": {
             "color": "#2a3f5f"
            },
            "error_y": {
             "color": "#2a3f5f"
            },
            "marker": {
             "line": {
              "color": "#E5ECF6",
              "width": 0.5
             },
             "pattern": {
              "fillmode": "overlay",
              "size": 10,
              "solidity": 0.2
             }
            },
            "type": "bar"
           }
          ],
          "barpolar": [
           {
            "marker": {
             "line": {
              "color": "#E5ECF6",
              "width": 0.5
             },
             "pattern": {
              "fillmode": "overlay",
              "size": 10,
              "solidity": 0.2
             }
            },
            "type": "barpolar"
           }
          ],
          "carpet": [
           {
            "aaxis": {
             "endlinecolor": "#2a3f5f",
             "gridcolor": "white",
             "linecolor": "white",
             "minorgridcolor": "white",
             "startlinecolor": "#2a3f5f"
            },
            "baxis": {
             "endlinecolor": "#2a3f5f",
             "gridcolor": "white",
             "linecolor": "white",
             "minorgridcolor": "white",
             "startlinecolor": "#2a3f5f"
            },
            "type": "carpet"
           }
          ],
          "choropleth": [
           {
            "colorbar": {
             "outlinewidth": 0,
             "ticks": ""
            },
            "type": "choropleth"
           }
          ],
          "contour": [
           {
            "colorbar": {
             "outlinewidth": 0,
             "ticks": ""
            },
            "colorscale": [
             [
              0,
              "#0d0887"
             ],
             [
              0.1111111111111111,
              "#46039f"
             ],
             [
              0.2222222222222222,
              "#7201a8"
             ],
             [
              0.3333333333333333,
              "#9c179e"
             ],
             [
              0.4444444444444444,
              "#bd3786"
             ],
             [
              0.5555555555555556,
              "#d8576b"
             ],
             [
              0.6666666666666666,
              "#ed7953"
             ],
             [
              0.7777777777777778,
              "#fb9f3a"
             ],
             [
              0.8888888888888888,
              "#fdca26"
             ],
             [
              1,
              "#f0f921"
             ]
            ],
            "type": "contour"
           }
          ],
          "contourcarpet": [
           {
            "colorbar": {
             "outlinewidth": 0,
             "ticks": ""
            },
            "type": "contourcarpet"
           }
          ],
          "heatmap": [
           {
            "colorbar": {
             "outlinewidth": 0,
             "ticks": ""
            },
            "colorscale": [
             [
              0,
              "#0d0887"
             ],
             [
              0.1111111111111111,
              "#46039f"
             ],
             [
              0.2222222222222222,
              "#7201a8"
             ],
             [
              0.3333333333333333,
              "#9c179e"
             ],
             [
              0.4444444444444444,
              "#bd3786"
             ],
             [
              0.5555555555555556,
              "#d8576b"
             ],
             [
              0.6666666666666666,
              "#ed7953"
             ],
             [
              0.7777777777777778,
              "#fb9f3a"
             ],
             [
              0.8888888888888888,
              "#fdca26"
             ],
             [
              1,
              "#f0f921"
             ]
            ],
            "type": "heatmap"
           }
          ],
          "heatmapgl": [
           {
            "colorbar": {
             "outlinewidth": 0,
             "ticks": ""
            },
            "colorscale": [
             [
              0,
              "#0d0887"
             ],
             [
              0.1111111111111111,
              "#46039f"
             ],
             [
              0.2222222222222222,
              "#7201a8"
             ],
             [
              0.3333333333333333,
              "#9c179e"
             ],
             [
              0.4444444444444444,
              "#bd3786"
             ],
             [
              0.5555555555555556,
              "#d8576b"
             ],
             [
              0.6666666666666666,
              "#ed7953"
             ],
             [
              0.7777777777777778,
              "#fb9f3a"
             ],
             [
              0.8888888888888888,
              "#fdca26"
             ],
             [
              1,
              "#f0f921"
             ]
            ],
            "type": "heatmapgl"
           }
          ],
          "histogram": [
           {
            "marker": {
             "pattern": {
              "fillmode": "overlay",
              "size": 10,
              "solidity": 0.2
             }
            },
            "type": "histogram"
           }
          ],
          "histogram2d": [
           {
            "colorbar": {
             "outlinewidth": 0,
             "ticks": ""
            },
            "colorscale": [
             [
              0,
              "#0d0887"
             ],
             [
              0.1111111111111111,
              "#46039f"
             ],
             [
              0.2222222222222222,
              "#7201a8"
             ],
             [
              0.3333333333333333,
              "#9c179e"
             ],
             [
              0.4444444444444444,
              "#bd3786"
             ],
             [
              0.5555555555555556,
              "#d8576b"
             ],
             [
              0.6666666666666666,
              "#ed7953"
             ],
             [
              0.7777777777777778,
              "#fb9f3a"
             ],
             [
              0.8888888888888888,
              "#fdca26"
             ],
             [
              1,
              "#f0f921"
             ]
            ],
            "type": "histogram2d"
           }
          ],
          "histogram2dcontour": [
           {
            "colorbar": {
             "outlinewidth": 0,
             "ticks": ""
            },
            "colorscale": [
             [
              0,
              "#0d0887"
             ],
             [
              0.1111111111111111,
              "#46039f"
             ],
             [
              0.2222222222222222,
              "#7201a8"
             ],
             [
              0.3333333333333333,
              "#9c179e"
             ],
             [
              0.4444444444444444,
              "#bd3786"
             ],
             [
              0.5555555555555556,
              "#d8576b"
             ],
             [
              0.6666666666666666,
              "#ed7953"
             ],
             [
              0.7777777777777778,
              "#fb9f3a"
             ],
             [
              0.8888888888888888,
              "#fdca26"
             ],
             [
              1,
              "#f0f921"
             ]
            ],
            "type": "histogram2dcontour"
           }
          ],
          "mesh3d": [
           {
            "colorbar": {
             "outlinewidth": 0,
             "ticks": ""
            },
            "type": "mesh3d"
           }
          ],
          "parcoords": [
           {
            "line": {
             "colorbar": {
              "outlinewidth": 0,
              "ticks": ""
             }
            },
            "type": "parcoords"
           }
          ],
          "pie": [
           {
            "automargin": true,
            "type": "pie"
           }
          ],
          "scatter": [
           {
            "fillpattern": {
             "fillmode": "overlay",
             "size": 10,
             "solidity": 0.2
            },
            "type": "scatter"
           }
          ],
          "scatter3d": [
           {
            "line": {
             "colorbar": {
              "outlinewidth": 0,
              "ticks": ""
             }
            },
            "marker": {
             "colorbar": {
              "outlinewidth": 0,
              "ticks": ""
             }
            },
            "type": "scatter3d"
           }
          ],
          "scattercarpet": [
           {
            "marker": {
             "colorbar": {
              "outlinewidth": 0,
              "ticks": ""
             }
            },
            "type": "scattercarpet"
           }
          ],
          "scattergeo": [
           {
            "marker": {
             "colorbar": {
              "outlinewidth": 0,
              "ticks": ""
             }
            },
            "type": "scattergeo"
           }
          ],
          "scattergl": [
           {
            "marker": {
             "colorbar": {
              "outlinewidth": 0,
              "ticks": ""
             }
            },
            "type": "scattergl"
           }
          ],
          "scattermapbox": [
           {
            "marker": {
             "colorbar": {
              "outlinewidth": 0,
              "ticks": ""
             }
            },
            "type": "scattermapbox"
           }
          ],
          "scatterpolar": [
           {
            "marker": {
             "colorbar": {
              "outlinewidth": 0,
              "ticks": ""
             }
            },
            "type": "scatterpolar"
           }
          ],
          "scatterpolargl": [
           {
            "marker": {
             "colorbar": {
              "outlinewidth": 0,
              "ticks": ""
             }
            },
            "type": "scatterpolargl"
           }
          ],
          "scatterternary": [
           {
            "marker": {
             "colorbar": {
              "outlinewidth": 0,
              "ticks": ""
             }
            },
            "type": "scatterternary"
           }
          ],
          "surface": [
           {
            "colorbar": {
             "outlinewidth": 0,
             "ticks": ""
            },
            "colorscale": [
             [
              0,
              "#0d0887"
             ],
             [
              0.1111111111111111,
              "#46039f"
             ],
             [
              0.2222222222222222,
              "#7201a8"
             ],
             [
              0.3333333333333333,
              "#9c179e"
             ],
             [
              0.4444444444444444,
              "#bd3786"
             ],
             [
              0.5555555555555556,
              "#d8576b"
             ],
             [
              0.6666666666666666,
              "#ed7953"
             ],
             [
              0.7777777777777778,
              "#fb9f3a"
             ],
             [
              0.8888888888888888,
              "#fdca26"
             ],
             [
              1,
              "#f0f921"
             ]
            ],
            "type": "surface"
           }
          ],
          "table": [
           {
            "cells": {
             "fill": {
              "color": "#EBF0F8"
             },
             "line": {
              "color": "white"
             }
            },
            "header": {
             "fill": {
              "color": "#C8D4E3"
             },
             "line": {
              "color": "white"
             }
            },
            "type": "table"
           }
          ]
         },
         "layout": {
          "annotationdefaults": {
           "arrowcolor": "#2a3f5f",
           "arrowhead": 0,
           "arrowwidth": 1
          },
          "autotypenumbers": "strict",
          "coloraxis": {
           "colorbar": {
            "outlinewidth": 0,
            "ticks": ""
           }
          },
          "colorscale": {
           "diverging": [
            [
             0,
             "#8e0152"
            ],
            [
             0.1,
             "#c51b7d"
            ],
            [
             0.2,
             "#de77ae"
            ],
            [
             0.3,
             "#f1b6da"
            ],
            [
             0.4,
             "#fde0ef"
            ],
            [
             0.5,
             "#f7f7f7"
            ],
            [
             0.6,
             "#e6f5d0"
            ],
            [
             0.7,
             "#b8e186"
            ],
            [
             0.8,
             "#7fbc41"
            ],
            [
             0.9,
             "#4d9221"
            ],
            [
             1,
             "#276419"
            ]
           ],
           "sequential": [
            [
             0,
             "#0d0887"
            ],
            [
             0.1111111111111111,
             "#46039f"
            ],
            [
             0.2222222222222222,
             "#7201a8"
            ],
            [
             0.3333333333333333,
             "#9c179e"
            ],
            [
             0.4444444444444444,
             "#bd3786"
            ],
            [
             0.5555555555555556,
             "#d8576b"
            ],
            [
             0.6666666666666666,
             "#ed7953"
            ],
            [
             0.7777777777777778,
             "#fb9f3a"
            ],
            [
             0.8888888888888888,
             "#fdca26"
            ],
            [
             1,
             "#f0f921"
            ]
           ],
           "sequentialminus": [
            [
             0,
             "#0d0887"
            ],
            [
             0.1111111111111111,
             "#46039f"
            ],
            [
             0.2222222222222222,
             "#7201a8"
            ],
            [
             0.3333333333333333,
             "#9c179e"
            ],
            [
             0.4444444444444444,
             "#bd3786"
            ],
            [
             0.5555555555555556,
             "#d8576b"
            ],
            [
             0.6666666666666666,
             "#ed7953"
            ],
            [
             0.7777777777777778,
             "#fb9f3a"
            ],
            [
             0.8888888888888888,
             "#fdca26"
            ],
            [
             1,
             "#f0f921"
            ]
           ]
          },
          "colorway": [
           "#636efa",
           "#EF553B",
           "#00cc96",
           "#ab63fa",
           "#FFA15A",
           "#19d3f3",
           "#FF6692",
           "#B6E880",
           "#FF97FF",
           "#FECB52"
          ],
          "font": {
           "color": "#2a3f5f"
          },
          "geo": {
           "bgcolor": "white",
           "lakecolor": "white",
           "landcolor": "#E5ECF6",
           "showlakes": true,
           "showland": true,
           "subunitcolor": "white"
          },
          "hoverlabel": {
           "align": "left"
          },
          "hovermode": "closest",
          "mapbox": {
           "style": "light"
          },
          "paper_bgcolor": "white",
          "plot_bgcolor": "#E5ECF6",
          "polar": {
           "angularaxis": {
            "gridcolor": "white",
            "linecolor": "white",
            "ticks": ""
           },
           "bgcolor": "#E5ECF6",
           "radialaxis": {
            "gridcolor": "white",
            "linecolor": "white",
            "ticks": ""
           }
          },
          "scene": {
           "xaxis": {
            "backgroundcolor": "#E5ECF6",
            "gridcolor": "white",
            "gridwidth": 2,
            "linecolor": "white",
            "showbackground": true,
            "ticks": "",
            "zerolinecolor": "white"
           },
           "yaxis": {
            "backgroundcolor": "#E5ECF6",
            "gridcolor": "white",
            "gridwidth": 2,
            "linecolor": "white",
            "showbackground": true,
            "ticks": "",
            "zerolinecolor": "white"
           },
           "zaxis": {
            "backgroundcolor": "#E5ECF6",
            "gridcolor": "white",
            "gridwidth": 2,
            "linecolor": "white",
            "showbackground": true,
            "ticks": "",
            "zerolinecolor": "white"
           }
          },
          "shapedefaults": {
           "line": {
            "color": "#2a3f5f"
           }
          },
          "ternary": {
           "aaxis": {
            "gridcolor": "white",
            "linecolor": "white",
            "ticks": ""
           },
           "baxis": {
            "gridcolor": "white",
            "linecolor": "white",
            "ticks": ""
           },
           "bgcolor": "#E5ECF6",
           "caxis": {
            "gridcolor": "white",
            "linecolor": "white",
            "ticks": ""
           }
          },
          "title": {
           "x": 0.05
          },
          "xaxis": {
           "automargin": true,
           "gridcolor": "white",
           "linecolor": "white",
           "ticks": "",
           "title": {
            "standoff": 15
           },
           "zerolinecolor": "white",
           "zerolinewidth": 2
          },
          "yaxis": {
           "automargin": true,
           "gridcolor": "white",
           "linecolor": "white",
           "ticks": "",
           "title": {
            "standoff": 15
           },
           "zerolinecolor": "white",
           "zerolinewidth": 2
          }
         }
        }
       }
      },
      "text/html": [
       "<div>                            <div id=\"b7255655-2b64-4951-abf7-3fa23318687d\" class=\"plotly-graph-div\" style=\"height:525px; width:100%;\"></div>            <script type=\"text/javascript\">                require([\"plotly\"], function(Plotly) {                    window.PLOTLYENV=window.PLOTLYENV || {};                                    if (document.getElementById(\"b7255655-2b64-4951-abf7-3fa23318687d\")) {                    Plotly.newPlot(                        \"b7255655-2b64-4951-abf7-3fa23318687d\",                        [{\"colorbar\":{\"title\":{\"text\":\"World map urban population distribution \"}},\"colorscale\":[[0.0,\"#30123b\"],[0.07142857142857142,\"#4145ab\"],[0.14285714285714285,\"#4675ed\"],[0.21428571428571427,\"#39a2fc\"],[0.2857142857142857,\"#1bcfd4\"],[0.35714285714285715,\"#24eca6\"],[0.42857142857142855,\"#61fc6c\"],[0.5,\"#a4fc3b\"],[0.5714285714285714,\"#d1e834\"],[0.6428571428571429,\"#f3c63a\"],[0.7142857142857143,\"#fe9b2d\"],[0.7857142857142857,\"#f36315\"],[0.8571428571428571,\"#d93806\"],[0.9285714285714286,\"#b11901\"],[1.0,\"#7a0402\"]],\"locationmode\":\"country names\",\"locations\":[\"China\",\"India\",\"United States\",\"Indonesia\",\"Pakistan\",\"Brazil\",\"Nigeria\",\"Bangladesh\",\"Russia\",\"Mexico\",\"Japan\",\"Ethiopia\",\"Philippines\",\"Egypt\",\"Vietnam\",\"DR Congo\",\"Turkey\",\"Iran\",\"Germany\",\"Thailand\",\"United Kingdom\",\"France\",\"Italy\",\"Tanzania\",\"South Africa\",\"Myanmar\",\"Kenya\",\"South Korea\",\"Colombia\",\"Spain\",\"Uganda\",\"Argentina\",\"Algeria\",\"Sudan\",\"Ukraine\",\"Iraq\",\"Afghanistan\",\"Poland\",\"Canada\",\"Morocco\",\"Saudi Arabia\",\"Uzbekistan\",\"Peru\",\"Angola\",\"Malaysia\",\"Mozambique\",\"Ghana\",\"Yemen\",\"Nepal\",\"Madagascar\",\"Cameroon\",\"C\\u00f4te d'Ivoire\",\"North Korea\",\"Australia\",\"Niger\",\"Taiwan\",\"Sri Lanka\",\"Burkina Faso\",\"Mali\",\"Romania\",\"Malawi\",\"Chile\",\"Kazakhstan\",\"Zambia\",\"Guatemala\",\"Ecuador\",\"Syria\",\"Netherlands\",\"Senegal\",\"Cambodia\",\"Chad\",\"Somalia\",\"Zimbabwe\",\"Guinea\",\"Rwanda\",\"Benin\",\"Burundi\",\"Tunisia\",\"Bolivia\",\"Belgium\",\"Haiti\",\"Cuba\",\"South Sudan\",\"Dominican Republic\",\"Czech Republic (Czechia)\",\"Greece\",\"Jordan\",\"Portugal\",\"Azerbaijan\",\"Sweden\",\"Honduras\",\"United Arab Emirates\",\"Hungary\",\"Tajikistan\",\"Belarus\",\"Austria\",\"Papua New Guinea\",\"Serbia\",\"Israel\",\"Switzerland\",\"Togo\",\"Sierra Leone\",\"Laos\",\"Paraguay\",\"Bulgaria\",\"Libya\",\"Lebanon\",\"Nicaragua\",\"Kyrgyzstan\",\"El Salvador\",\"Turkmenistan\",\"Denmark\",\"Finland\",\"Congo\",\"Slovakia\",\"Norway\",\"Oman\",\"State of Palestine\",\"Costa Rica\",\"Liberia\",\"Ireland\",\"Central African Republic\",\"New Zealand\",\"Mauritania\",\"Panama\",\"Croatia\",\"Moldova\",\"Georgia\",\"Eritrea\",\"Uruguay\",\"Bosnia and Herzegovina\",\"Mongolia\",\"Armenia\",\"Jamaica\",\"Qatar\",\"Albania\",\"Lithuania\",\"Namibia\",\"Gambia\",\"Botswana\",\"Gabon\",\"Lesotho\",\"North Macedonia\",\"Slovenia\",\"Guinea-Bissau\",\"Latvia\",\"Bahrain\",\"Equatorial Guinea\",\"Trinidad and Tobago\",\"Estonia\",\"Timor-Leste\",\"Mauritius\",\"Cyprus\",\"Eswatini\",\"Djibouti\",\"Fiji\",\"R\\u00e9union\",\"Comoros\",\"Guyana\",\"Bhutan\",\"Solomon Islands\",\"Montenegro\",\"Luxembourg\",\"Western Sahara\",\"Suriname\",\"Cabo Verde\",\"Maldives\",\"Malta\",\"Brunei\",\"Belize\",\"Bahamas\",\"Martinique\",\"Iceland\",\"Vanuatu\",\"French Guiana\",\"Barbados\",\"New Caledonia\",\"French Polynesia\",\"Mayotte\",\"Sao Tome & Principe\",\"Samoa\",\"Saint Lucia\",\"Channel Islands\",\"Guam\",\"Cura\\u00e7ao\",\"Kiribati\",\"Micronesia\",\"Grenada\",\"St. Vincent & Grenadines\",\"Aruba\",\"Tonga\",\"U.S. Virgin Islands\",\"Seychelles\",\"Antigua and Barbuda\",\"Isle of Man\",\"Andorra\",\"Dominica\",\"Cayman Islands\",\"Bermuda\",\"Marshall Islands\",\"Northern Mariana Islands\",\"Greenland\",\"American Samoa\",\"Saint Kitts & Nevis\",\"Faeroe Islands\",\"Sint Maarten\",\"Turks and Caicos\",\"Saint Martin\",\"Liechtenstein\",\"San Marino\",\"British Virgin Islands\",\"Caribbean Netherlands\",\"Cook Islands\",\"Tuvalu\",\"Wallis & Futuna\",\"Saint Barthelemy\",\"Saint Helena\",\"Saint Pierre & Miquelon\",\"Montserrat\",\"Falkland Islands\",\"Niue\",\"Tokelau\"],\"text\":[153.0,464.0,36.0,151.0,287.0,25.0,226.0,1265.0,9.0,66.0,347.0,115.0,368.0,103.0,314.0,40.0,110.0,52.0,240.0,137.0,281.0,119.0,206.0,67.0,49.0,83.0,94.0,527.0,46.0,94.0,229.0,17.0,18.0,25.0,75.0,93.0,60.0,124.0,4.0,83.0,16.0,79.0,26.0,26.0,99.0,40.0,137.0,56.0,203.0,48.0,56.0,83.0,214.0,3.0,19.0,673.0,341.0,76.0,17.0,84.0,203.0,26.0,7.0,25.0,167.0,71.0,95.0,508.0,87.0,95.0,13.0,25.0,38.0,53.0,525.0,108.0,463.0,76.0,11.0,383.0,414.0,106.0,18.0,225.0,139.0,81.0,115.0,111.0,123.0,25.0,89.0,118.0,107.0,68.0,47.0,109.0,20.0,100.0,400.0,219.0,152.0,111.0,32.0,18.0,64.0,4.0,667.0,55.0,34.0,313.0,13.0,137.0,18.0,16.0,114.0,15.0,16.0,847.0,100.0,53.0,72.0,8.0,18.0,5.0,58.0,73.0,123.0,57.0,35.0,20.0,64.0,2.0,104.0,273.0,248.0,105.0,43.0,3.0,239.0,4.0,9.0,71.0,83.0,103.0,70.0,30.0,2239.0,50.0,273.0,31.0,89.0,626.0,131.0,67.0,43.0,49.0,358.0,467.0,4.0,20.0,25.0,47.0,242.0,2.0,4.0,138.0,1802.0,1380.0,83.0,17.0,39.0,354.0,3.0,25.0,4.0,668.0,16.0,77.0,728.0,228.0,70.0,301.0,915.0,313.0,370.0,147.0,164.0,331.0,284.0,593.0,147.0,298.0,214.0,223.0,149.0,164.0,96.0,274.0,1246.0,329.0,125.0,0.0,276.0,205.0,35.0,1261.0,41.0,730.0,238.0,566.0,202.0,80.0,73.0,393.0,80.0,470.0,16.0,25.0,50.0,0.0,6.0,136.0],\"z\":[61,35,83,56,35,88,52,39,74,84,92,21,47,43,38,46,76,76,76,51,83,82,69,37,67,31,28,82,80,80,26,93,73,35,69,73,25,60,81,64,84,50,79,67,78,38,57,38,21,39,56,51,63,86,17,79,18,31,44,55,18,85,58,45,52,63,60,92,49,24,23,47,38,39,18,48,14,70,69,98,57,78,25,85,74,85,91,66,56,88,57,86,72,27,79,57,13,56,93,74,43,43,36,62,76,78,78,57,36,73,53,88,86,70,54,83,87,80,80,53,63,43,87,57,68,58,43,58,63,96,52,67,63,55,96,63,71,55,59,73,87,31,59,55,45,69,89,73,52,68,33,41,67,30,79,59,100,29,27,46,23,68,88,87,65,68,35,93,80,46,86,92,94,24,87,31,72,64,46,74,18,19,30,95,89,57,21,35,53,44,24,96,56,26,53,88,74,97,97,70,88,87,88,33,43,96,89,0,15,97,52,75,75,62,0,0,27,100,10,66,46,0],\"type\":\"choropleth\"}],                        {\"geo\":{\"scope\":\"world\"},\"template\":{\"data\":{\"barpolar\":[{\"marker\":{\"line\":{\"color\":\"#E5ECF6\",\"width\":0.5},\"pattern\":{\"fillmode\":\"overlay\",\"size\":10,\"solidity\":0.2}},\"type\":\"barpolar\"}],\"bar\":[{\"error_x\":{\"color\":\"#2a3f5f\"},\"error_y\":{\"color\":\"#2a3f5f\"},\"marker\":{\"line\":{\"color\":\"#E5ECF6\",\"width\":0.5},\"pattern\":{\"fillmode\":\"overlay\",\"size\":10,\"solidity\":0.2}},\"type\":\"bar\"}],\"carpet\":[{\"aaxis\":{\"endlinecolor\":\"#2a3f5f\",\"gridcolor\":\"white\",\"linecolor\":\"white\",\"minorgridcolor\":\"white\",\"startlinecolor\":\"#2a3f5f\"},\"baxis\":{\"endlinecolor\":\"#2a3f5f\",\"gridcolor\":\"white\",\"linecolor\":\"white\",\"minorgridcolor\":\"white\",\"startlinecolor\":\"#2a3f5f\"},\"type\":\"carpet\"}],\"choropleth\":[{\"colorbar\":{\"outlinewidth\":0,\"ticks\":\"\"},\"type\":\"choropleth\"}],\"contourcarpet\":[{\"colorbar\":{\"outlinewidth\":0,\"ticks\":\"\"},\"type\":\"contourcarpet\"}],\"contour\":[{\"colorbar\":{\"outlinewidth\":0,\"ticks\":\"\"},\"colorscale\":[[0.0,\"#0d0887\"],[0.1111111111111111,\"#46039f\"],[0.2222222222222222,\"#7201a8\"],[0.3333333333333333,\"#9c179e\"],[0.4444444444444444,\"#bd3786\"],[0.5555555555555556,\"#d8576b\"],[0.6666666666666666,\"#ed7953\"],[0.7777777777777778,\"#fb9f3a\"],[0.8888888888888888,\"#fdca26\"],[1.0,\"#f0f921\"]],\"type\":\"contour\"}],\"heatmapgl\":[{\"colorbar\":{\"outlinewidth\":0,\"ticks\":\"\"},\"colorscale\":[[0.0,\"#0d0887\"],[0.1111111111111111,\"#46039f\"],[0.2222222222222222,\"#7201a8\"],[0.3333333333333333,\"#9c179e\"],[0.4444444444444444,\"#bd3786\"],[0.5555555555555556,\"#d8576b\"],[0.6666666666666666,\"#ed7953\"],[0.7777777777777778,\"#fb9f3a\"],[0.8888888888888888,\"#fdca26\"],[1.0,\"#f0f921\"]],\"type\":\"heatmapgl\"}],\"heatmap\":[{\"colorbar\":{\"outlinewidth\":0,\"ticks\":\"\"},\"colorscale\":[[0.0,\"#0d0887\"],[0.1111111111111111,\"#46039f\"],[0.2222222222222222,\"#7201a8\"],[0.3333333333333333,\"#9c179e\"],[0.4444444444444444,\"#bd3786\"],[0.5555555555555556,\"#d8576b\"],[0.6666666666666666,\"#ed7953\"],[0.7777777777777778,\"#fb9f3a\"],[0.8888888888888888,\"#fdca26\"],[1.0,\"#f0f921\"]],\"type\":\"heatmap\"}],\"histogram2dcontour\":[{\"colorbar\":{\"outlinewidth\":0,\"ticks\":\"\"},\"colorscale\":[[0.0,\"#0d0887\"],[0.1111111111111111,\"#46039f\"],[0.2222222222222222,\"#7201a8\"],[0.3333333333333333,\"#9c179e\"],[0.4444444444444444,\"#bd3786\"],[0.5555555555555556,\"#d8576b\"],[0.6666666666666666,\"#ed7953\"],[0.7777777777777778,\"#fb9f3a\"],[0.8888888888888888,\"#fdca26\"],[1.0,\"#f0f921\"]],\"type\":\"histogram2dcontour\"}],\"histogram2d\":[{\"colorbar\":{\"outlinewidth\":0,\"ticks\":\"\"},\"colorscale\":[[0.0,\"#0d0887\"],[0.1111111111111111,\"#46039f\"],[0.2222222222222222,\"#7201a8\"],[0.3333333333333333,\"#9c179e\"],[0.4444444444444444,\"#bd3786\"],[0.5555555555555556,\"#d8576b\"],[0.6666666666666666,\"#ed7953\"],[0.7777777777777778,\"#fb9f3a\"],[0.8888888888888888,\"#fdca26\"],[1.0,\"#f0f921\"]],\"type\":\"histogram2d\"}],\"histogram\":[{\"marker\":{\"pattern\":{\"fillmode\":\"overlay\",\"size\":10,\"solidity\":0.2}},\"type\":\"histogram\"}],\"mesh3d\":[{\"colorbar\":{\"outlinewidth\":0,\"ticks\":\"\"},\"type\":\"mesh3d\"}],\"parcoords\":[{\"line\":{\"colorbar\":{\"outlinewidth\":0,\"ticks\":\"\"}},\"type\":\"parcoords\"}],\"pie\":[{\"automargin\":true,\"type\":\"pie\"}],\"scatter3d\":[{\"line\":{\"colorbar\":{\"outlinewidth\":0,\"ticks\":\"\"}},\"marker\":{\"colorbar\":{\"outlinewidth\":0,\"ticks\":\"\"}},\"type\":\"scatter3d\"}],\"scattercarpet\":[{\"marker\":{\"colorbar\":{\"outlinewidth\":0,\"ticks\":\"\"}},\"type\":\"scattercarpet\"}],\"scattergeo\":[{\"marker\":{\"colorbar\":{\"outlinewidth\":0,\"ticks\":\"\"}},\"type\":\"scattergeo\"}],\"scattergl\":[{\"marker\":{\"colorbar\":{\"outlinewidth\":0,\"ticks\":\"\"}},\"type\":\"scattergl\"}],\"scattermapbox\":[{\"marker\":{\"colorbar\":{\"outlinewidth\":0,\"ticks\":\"\"}},\"type\":\"scattermapbox\"}],\"scatterpolargl\":[{\"marker\":{\"colorbar\":{\"outlinewidth\":0,\"ticks\":\"\"}},\"type\":\"scatterpolargl\"}],\"scatterpolar\":[{\"marker\":{\"colorbar\":{\"outlinewidth\":0,\"ticks\":\"\"}},\"type\":\"scatterpolar\"}],\"scatter\":[{\"fillpattern\":{\"fillmode\":\"overlay\",\"size\":10,\"solidity\":0.2},\"type\":\"scatter\"}],\"scatterternary\":[{\"marker\":{\"colorbar\":{\"outlinewidth\":0,\"ticks\":\"\"}},\"type\":\"scatterternary\"}],\"surface\":[{\"colorbar\":{\"outlinewidth\":0,\"ticks\":\"\"},\"colorscale\":[[0.0,\"#0d0887\"],[0.1111111111111111,\"#46039f\"],[0.2222222222222222,\"#7201a8\"],[0.3333333333333333,\"#9c179e\"],[0.4444444444444444,\"#bd3786\"],[0.5555555555555556,\"#d8576b\"],[0.6666666666666666,\"#ed7953\"],[0.7777777777777778,\"#fb9f3a\"],[0.8888888888888888,\"#fdca26\"],[1.0,\"#f0f921\"]],\"type\":\"surface\"}],\"table\":[{\"cells\":{\"fill\":{\"color\":\"#EBF0F8\"},\"line\":{\"color\":\"white\"}},\"header\":{\"fill\":{\"color\":\"#C8D4E3\"},\"line\":{\"color\":\"white\"}},\"type\":\"table\"}]},\"layout\":{\"annotationdefaults\":{\"arrowcolor\":\"#2a3f5f\",\"arrowhead\":0,\"arrowwidth\":1},\"autotypenumbers\":\"strict\",\"coloraxis\":{\"colorbar\":{\"outlinewidth\":0,\"ticks\":\"\"}},\"colorscale\":{\"diverging\":[[0,\"#8e0152\"],[0.1,\"#c51b7d\"],[0.2,\"#de77ae\"],[0.3,\"#f1b6da\"],[0.4,\"#fde0ef\"],[0.5,\"#f7f7f7\"],[0.6,\"#e6f5d0\"],[0.7,\"#b8e186\"],[0.8,\"#7fbc41\"],[0.9,\"#4d9221\"],[1,\"#276419\"]],\"sequential\":[[0.0,\"#0d0887\"],[0.1111111111111111,\"#46039f\"],[0.2222222222222222,\"#7201a8\"],[0.3333333333333333,\"#9c179e\"],[0.4444444444444444,\"#bd3786\"],[0.5555555555555556,\"#d8576b\"],[0.6666666666666666,\"#ed7953\"],[0.7777777777777778,\"#fb9f3a\"],[0.8888888888888888,\"#fdca26\"],[1.0,\"#f0f921\"]],\"sequentialminus\":[[0.0,\"#0d0887\"],[0.1111111111111111,\"#46039f\"],[0.2222222222222222,\"#7201a8\"],[0.3333333333333333,\"#9c179e\"],[0.4444444444444444,\"#bd3786\"],[0.5555555555555556,\"#d8576b\"],[0.6666666666666666,\"#ed7953\"],[0.7777777777777778,\"#fb9f3a\"],[0.8888888888888888,\"#fdca26\"],[1.0,\"#f0f921\"]]},\"colorway\":[\"#636efa\",\"#EF553B\",\"#00cc96\",\"#ab63fa\",\"#FFA15A\",\"#19d3f3\",\"#FF6692\",\"#B6E880\",\"#FF97FF\",\"#FECB52\"],\"font\":{\"color\":\"#2a3f5f\"},\"geo\":{\"bgcolor\":\"white\",\"lakecolor\":\"white\",\"landcolor\":\"#E5ECF6\",\"showlakes\":true,\"showland\":true,\"subunitcolor\":\"white\"},\"hoverlabel\":{\"align\":\"left\"},\"hovermode\":\"closest\",\"mapbox\":{\"style\":\"light\"},\"paper_bgcolor\":\"white\",\"plot_bgcolor\":\"#E5ECF6\",\"polar\":{\"angularaxis\":{\"gridcolor\":\"white\",\"linecolor\":\"white\",\"ticks\":\"\"},\"bgcolor\":\"#E5ECF6\",\"radialaxis\":{\"gridcolor\":\"white\",\"linecolor\":\"white\",\"ticks\":\"\"}},\"scene\":{\"xaxis\":{\"backgroundcolor\":\"#E5ECF6\",\"gridcolor\":\"white\",\"gridwidth\":2,\"linecolor\":\"white\",\"showbackground\":true,\"ticks\":\"\",\"zerolinecolor\":\"white\"},\"yaxis\":{\"backgroundcolor\":\"#E5ECF6\",\"gridcolor\":\"white\",\"gridwidth\":2,\"linecolor\":\"white\",\"showbackground\":true,\"ticks\":\"\",\"zerolinecolor\":\"white\"},\"zaxis\":{\"backgroundcolor\":\"#E5ECF6\",\"gridcolor\":\"white\",\"gridwidth\":2,\"linecolor\":\"white\",\"showbackground\":true,\"ticks\":\"\",\"zerolinecolor\":\"white\"}},\"shapedefaults\":{\"line\":{\"color\":\"#2a3f5f\"}},\"ternary\":{\"aaxis\":{\"gridcolor\":\"white\",\"linecolor\":\"white\",\"ticks\":\"\"},\"baxis\":{\"gridcolor\":\"white\",\"linecolor\":\"white\",\"ticks\":\"\"},\"bgcolor\":\"#E5ECF6\",\"caxis\":{\"gridcolor\":\"white\",\"linecolor\":\"white\",\"ticks\":\"\"}},\"title\":{\"x\":0.05},\"xaxis\":{\"automargin\":true,\"gridcolor\":\"white\",\"linecolor\":\"white\",\"ticks\":\"\",\"title\":{\"standoff\":15},\"zerolinecolor\":\"white\",\"zerolinewidth\":2},\"yaxis\":{\"automargin\":true,\"gridcolor\":\"white\",\"linecolor\":\"white\",\"ticks\":\"\",\"title\":{\"standoff\":15},\"zerolinecolor\":\"white\",\"zerolinewidth\":2}}}},                        {\"responsive\": true}                    ).then(function(){\n",
       "                            \n",
       "var gd = document.getElementById('b7255655-2b64-4951-abf7-3fa23318687d');\n",
       "var x = new MutationObserver(function (mutations, observer) {{\n",
       "        var display = window.getComputedStyle(gd).display;\n",
       "        if (!display || display === 'none') {{\n",
       "            console.log([gd, 'removed!']);\n",
       "            Plotly.purge(gd);\n",
       "            observer.disconnect();\n",
       "        }}\n",
       "}});\n",
       "\n",
       "// Listen for the removal of the full notebook cells\n",
       "var notebookContainer = gd.closest('#notebook-container');\n",
       "if (notebookContainer) {{\n",
       "    x.observe(notebookContainer, {childList: true});\n",
       "}}\n",
       "\n",
       "// Listen for the clearing of the current output cell\n",
       "var outputEl = gd.closest('.output');\n",
       "if (outputEl) {{\n",
       "    x.observe(outputEl, {childList: true});\n",
       "}}\n",
       "\n",
       "                        })                };                });            </script>        </div>"
      ]
     },
     "metadata": {},
     "output_type": "display_data"
    }
   ],
   "source": [
    "iplot(choromap)"
   ]
  },
  {
   "cell_type": "code",
   "execution_count": null,
   "metadata": {},
   "outputs": [],
   "source": []
  }
 ],
 "metadata": {
  "kernelspec": {
   "display_name": "Python 3",
   "language": "python",
   "name": "python3"
  },
  "language_info": {
   "codemirror_mode": {
    "name": "ipython",
    "version": 3
   },
   "file_extension": ".py",
   "mimetype": "text/x-python",
   "name": "python",
   "nbconvert_exporter": "python",
   "pygments_lexer": "ipython3",
   "version": "3.8.5"
  }
 },
 "nbformat": 4,
 "nbformat_minor": 4
}
